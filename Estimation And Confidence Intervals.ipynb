{
 "cells": [
  {
   "cell_type": "markdown",
   "id": "f0e51a11",
   "metadata": {},
   "source": [
    "a. Build 99% Confidence Interval Using Sample Standard Deviation"
   ]
  },
  {
   "cell_type": "code",
   "execution_count": 24,
   "id": "8b77d276",
   "metadata": {},
   "outputs": [],
   "source": [
    "import numpy as np\n",
    "import scipy.stats as stats\n",
    "\n",
    "# Given data \n",
    "durability_data = np.array([1.13, 1.55, 1.43, 0.92, 1.25, 1.36, 1.32, 0.85, 1.07, 1.48, 1.20, 1.33, 1.18, 1.22, 1.29])\n"
   ]
  },
  {
   "cell_type": "code",
   "execution_count": 25,
   "id": "7e510301",
   "metadata": {},
   "outputs": [
    {
     "data": {
      "text/plain": [
       "array([1.13, 1.55, 1.43, 0.92, 1.25, 1.36, 1.32, 0.85, 1.07, 1.48, 1.2 ,\n",
       "       1.33, 1.18, 1.22, 1.29])"
      ]
     },
     "execution_count": 25,
     "metadata": {},
     "output_type": "execute_result"
    }
   ],
   "source": [
    "durability_data "
   ]
  },
  {
   "cell_type": "code",
   "execution_count": 26,
   "id": "26551efd",
   "metadata": {},
   "outputs": [],
   "source": [
    "\n",
    "# Sample mean and sample standard deviation\n",
    "sample_mean = np.mean(durability_data)\n",
    "sample_std = np.std(durability_data,ddof=1)  # ddof=1 for sample standard deviation"
   ]
  },
  {
   "cell_type": "code",
   "execution_count": 27,
   "id": "6fd94a8b",
   "metadata": {},
   "outputs": [
    {
     "data": {
      "text/plain": [
       "(1.2386666666666666, 0.19316412956959936)"
      ]
     },
     "execution_count": 27,
     "metadata": {},
     "output_type": "execute_result"
    }
   ],
   "source": [
    "sample_mean,sample_std\n",
    "\n"
   ]
  },
  {
   "cell_type": "code",
   "execution_count": 28,
   "id": "267b167a",
   "metadata": {},
   "outputs": [],
   "source": [
    "# Degrees of freedom\n",
    "n = len(durability_data)\n",
    "df = n - 1\n"
   ]
  },
  {
   "cell_type": "code",
   "execution_count": 29,
   "id": "95368c1e",
   "metadata": {},
   "outputs": [
    {
     "data": {
      "text/plain": [
       "14"
      ]
     },
     "execution_count": 29,
     "metadata": {},
     "output_type": "execute_result"
    }
   ],
   "source": [
    "df"
   ]
  },
  {
   "cell_type": "code",
   "execution_count": 30,
   "id": "e7c6206f",
   "metadata": {},
   "outputs": [],
   "source": [
    "\n",
    "# Critical t-value for 99% confidence interval\n",
    "t_critical = stats.t.ppf(0.995, df)  # 0.995 corresponds to (1 - alpha/2)\n"
   ]
  },
  {
   "cell_type": "code",
   "execution_count": 31,
   "id": "bf201d65",
   "metadata": {},
   "outputs": [
    {
     "data": {
      "text/plain": [
       "2.97684273411266"
      ]
     },
     "execution_count": 31,
     "metadata": {},
     "output_type": "execute_result"
    }
   ],
   "source": [
    "t_critical "
   ]
  },
  {
   "cell_type": "code",
   "execution_count": 32,
   "id": "7d7c7c33",
   "metadata": {},
   "outputs": [],
   "source": [
    "# Margin of error\n",
    "margin_of_error = t_critical * (sample_std / np.sqrt(n))\n"
   ]
  },
  {
   "cell_type": "code",
   "execution_count": 33,
   "id": "ee711d54",
   "metadata": {},
   "outputs": [
    {
     "data": {
      "text/plain": [
       "0.1484693282152996"
      ]
     },
     "execution_count": 33,
     "metadata": {},
     "output_type": "execute_result"
    }
   ],
   "source": [
    "\n",
    "margin_of_error\n"
   ]
  },
  {
   "cell_type": "code",
   "execution_count": 34,
   "id": "c0636965",
   "metadata": {},
   "outputs": [
    {
     "name": "stdout",
     "output_type": "stream",
     "text": [
      "Confidence Interval (Sample Standard Deviation): (1.090197338451367, 1.3871359948819662)\n"
     ]
    }
   ],
   "source": [
    "\n",
    "# Confidence interval\n",
    "confidence_interval_a = (sample_mean - margin_of_error, sample_mean + margin_of_error)\n",
    "print(\"Confidence Interval (Sample Standard Deviation):\", confidence_interval_a)"
   ]
  },
  {
   "cell_type": "markdown",
   "id": "9b201d4a",
   "metadata": {},
   "source": [
    "b. Confidence Interval Using Known Population Standard Deviation"
   ]
  },
  {
   "cell_type": "code",
   "execution_count": 35,
   "id": "a3fd08a2",
   "metadata": {},
   "outputs": [
    {
     "name": "stdout",
     "output_type": "stream",
     "text": [
      "Confidence Interval (Known Population Standard Deviation): (1.1056514133957607, 1.3716819199375725)\n"
     ]
    }
   ],
   "source": [
    "# Given population standard deviation (in millions of characters)\n",
    "population_std = 0.2\n",
    "\n",
    "# Critical z-value for 99% confidence interval\n",
    "z_critical = stats.norm.ppf(0.995)  # 0.995 corresponds to (1 - alpha/2)\n",
    "\n",
    "# Margin of error\n",
    "margin_of_error_b = z_critical * (population_std / np.sqrt(n))\n",
    "\n",
    "# Confidence interval\n",
    "confidence_interval_b = (sample_mean - margin_of_error_b, sample_mean + margin_of_error_b)\n",
    "print(\"Confidence Interval (Known Population Standard Deviation):\", confidence_interval_b)\n"
   ]
  },
  {
   "cell_type": "code",
   "execution_count": 36,
   "id": "641e4e22",
   "metadata": {},
   "outputs": [
    {
     "data": {
      "text/plain": [
       "0.13301525327090588"
      ]
     },
     "execution_count": 36,
     "metadata": {},
     "output_type": "execute_result"
    }
   ],
   "source": [
    "margin_of_error_b"
   ]
  },
  {
   "cell_type": "code",
   "execution_count": 37,
   "id": "ce2f414b",
   "metadata": {},
   "outputs": [
    {
     "data": {
      "text/plain": [
       "2.5758293035489004"
      ]
     },
     "execution_count": 37,
     "metadata": {},
     "output_type": "execute_result"
    }
   ],
   "source": [
    "z_critical"
   ]
  },
  {
   "cell_type": "code",
   "execution_count": null,
   "id": "80ea3ffe",
   "metadata": {},
   "outputs": [],
   "source": []
  }
 ],
 "metadata": {
  "kernelspec": {
   "display_name": "Python 3 (ipykernel)",
   "language": "python",
   "name": "python3"
  },
  "language_info": {
   "codemirror_mode": {
    "name": "ipython",
    "version": 3
   },
   "file_extension": ".py",
   "mimetype": "text/x-python",
   "name": "python",
   "nbconvert_exporter": "python",
   "pygments_lexer": "ipython3",
   "version": "3.11.5"
  }
 },
 "nbformat": 4,
 "nbformat_minor": 5
}
