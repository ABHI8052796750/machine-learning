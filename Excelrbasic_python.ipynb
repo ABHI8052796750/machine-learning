{
 "cells": [
  {
   "cell_type": "code",
   "execution_count": 35,
   "id": "456229f6",
   "metadata": {},
   "outputs": [
    {
     "name": "stdout",
     "output_type": "stream",
     "text": [
      "even100 squared is 10000\n",
      "odd101 squared is 10201\n",
      "even102 squared is 10404\n",
      "odd103 squared is 10609\n",
      "even104 squared is 10816\n",
      "odd105 squared is 11025\n",
      "even106 squared is 11236\n",
      "odd107 squared is 11449\n",
      "even108 squared is 11664\n",
      "odd109 squared is 11881\n",
      "even110 squared is 12100\n",
      "odd111 squared is 12321\n",
      "even112 squared is 12544\n",
      "odd113 squared is 12769\n",
      "even114 squared is 12996\n",
      "odd115 squared is 13225\n",
      "even116 squared is 13456\n",
      "odd117 squared is 13689\n",
      "even118 squared is 13924\n",
      "odd119 squared is 14161\n",
      "even120 squared is 14400\n",
      "odd121 squared is 14641\n",
      "even122 squared is 14884\n",
      "odd123 squared is 15129\n",
      "even124 squared is 15376\n",
      "odd125 squared is 15625\n",
      "even126 squared is 15876\n",
      "odd127 squared is 16129\n",
      "even128 squared is 16384\n",
      "odd129 squared is 16641\n",
      "even130 squared is 16900\n",
      "odd131 squared is 17161\n",
      "even132 squared is 17424\n",
      "odd133 squared is 17689\n",
      "even134 squared is 17956\n",
      "odd135 squared is 18225\n",
      "even136 squared is 18496\n",
      "odd137 squared is 18769\n",
      "even138 squared is 19044\n",
      "odd139 squared is 19321\n",
      "even140 squared is 19600\n",
      "odd141 squared is 19881\n",
      "even142 squared is 20164\n",
      "odd143 squared is 20449\n",
      "even144 squared is 20736\n",
      "odd145 squared is 21025\n",
      "even146 squared is 21316\n",
      "odd147 squared is 21609\n",
      "even148 squared is 21904\n",
      "odd149 squared is 22201\n",
      "even150 squared is 22500\n",
      "odd151 squared is 22801\n",
      "even152 squared is 23104\n",
      "odd153 squared is 23409\n",
      "even154 squared is 23716\n",
      "odd155 squared is 24025\n",
      "even156 squared is 24336\n",
      "odd157 squared is 24649\n",
      "even158 squared is 24964\n",
      "odd159 squared is 25281\n",
      "even160 squared is 25600\n",
      "odd161 squared is 25921\n",
      "even162 squared is 26244\n",
      "odd163 squared is 26569\n",
      "even164 squared is 26896\n",
      "odd165 squared is 27225\n",
      "even166 squared is 27556\n",
      "odd167 squared is 27889\n",
      "even168 squared is 28224\n",
      "odd169 squared is 28561\n",
      "even170 squared is 28900\n",
      "odd171 squared is 29241\n",
      "even172 squared is 29584\n",
      "odd173 squared is 29929\n",
      "even174 squared is 30276\n",
      "odd175 squared is 30625\n",
      "even176 squared is 30976\n",
      "odd177 squared is 31329\n",
      "even178 squared is 31684\n",
      "odd179 squared is 32041\n",
      "even180 squared is 32400\n",
      "odd181 squared is 32761\n",
      "even182 squared is 33124\n",
      "odd183 squared is 33489\n",
      "even184 squared is 33856\n",
      "odd185 squared is 34225\n",
      "even186 squared is 34596\n",
      "odd187 squared is 34969\n",
      "even188 squared is 35344\n",
      "odd189 squared is 35721\n",
      "even190 squared is 36100\n",
      "odd191 squared is 36481\n",
      "even192 squared is 36864\n",
      "odd193 squared is 37249\n",
      "even194 squared is 37636\n",
      "odd195 squared is 38025\n",
      "even196 squared is 38416\n",
      "odd197 squared is 38809\n",
      "even198 squared is 39204\n",
      "odd199 squared is 39601\n",
      "even200 squared is 40000\n"
     ]
    }
   ],
   "source": [
    "for num in range(100, 201):\n",
    "    if num % 2 == 0:\n",
    "        print(f\"even{num} squared is {num**2}\")\n",
    "    else:\n",
    "        print(f\"odd{num} squared is {num**2}\")"
   ]
  },
  {
   "cell_type": "code",
   "execution_count": 23,
   "id": "a911c1eb",
   "metadata": {},
   "outputs": [],
   "source": [
    "def check_prime(num):\n",
    "    if num<=1: \n",
    "        print(\"no prime\")\n",
    "    for i in range(2,num):\n",
    "        if num % i == 0:\n",
    "            print(\"no prime\")\n",
    "            break\n",
    "\n",
    "    else:\n",
    "        print(\"prime\")"
   ]
  },
  {
   "cell_type": "code",
   "execution_count": 27,
   "id": "37c5fca4",
   "metadata": {},
   "outputs": [
    {
     "name": "stdout",
     "output_type": "stream",
     "text": [
      "no prime\n"
     ]
    }
   ],
   "source": [
    "check_prime(6)"
   ]
  },
  {
   "cell_type": "code",
   "execution_count": 32,
   "id": "16a4842a",
   "metadata": {},
   "outputs": [],
   "source": [
    "import random \n",
    "\n",
    "def genrate_random_num():\n",
    "    \n",
    "    num1 = random.randint(1,10)\n",
    "    num2 = random.randint(1,10)\n",
    "    return num1,num2"
   ]
  },
  {
   "cell_type": "code",
   "execution_count": 33,
   "id": "1a801755",
   "metadata": {},
   "outputs": [
    {
     "name": "stdout",
     "output_type": "stream",
     "text": [
      "no200\n",
      "wrong\n"
     ]
    }
   ],
   "source": [
    "num1,num2 = genrate_random_num()\n",
    "actual = num1*num2\n",
    "user = int(input(\"no\"))\n",
    "if user  == actual:\n",
    "    print(\"right\")\n",
    "else:\n",
    "    print(\"wrong\")"
   ]
  },
  {
   "cell_type": "code",
   "execution_count": 40,
   "id": "123644d1",
   "metadata": {},
   "outputs": [
    {
     "name": "stdout",
     "output_type": "stream",
     "text": [
      "enter a stringabhi\n",
      "this is not palindrome\n"
     ]
    }
   ],
   "source": [
    "string_to_check = input(\"enter a string\")\n",
    "\n",
    "if string_to_check == string_to_check[::-1]:\n",
    "      \n",
    "    print(\"this is palindrome\")\n",
    "else:\n",
    "    print(\"this is not palindrome\")"
   ]
  },
  {
   "cell_type": "code",
   "execution_count": 44,
   "id": "325eaa99",
   "metadata": {},
   "outputs": [
    {
     "name": "stdout",
     "output_type": "stream",
     "text": [
      "Number of words in the text: 15\n"
     ]
    }
   ],
   "source": [
    "def count_words(text):\n",
    "    \n",
    "   # Counts the number of words in the given text.\n",
    "\n",
    "    words = text.split()  # Split the text into a list of words\n",
    "    return len(words)     # The length of the list is the word count\n",
    "\n",
    "\n",
    "text = \"This is a sample text. This text will be used to demonstrate the word counter.\"\n",
    "word_count = count_words(text)\n",
    "print(f\"Number of words in the text: {word_count}\")"
   ]
  },
  {
   "cell_type": "code",
   "execution_count": null,
   "id": "b4811ddc",
   "metadata": {},
   "outputs": [],
   "source": []
  }
 ],
 "metadata": {
  "kernelspec": {
   "display_name": "Python 3 (ipykernel)",
   "language": "python",
   "name": "python3"
  },
  "language_info": {
   "codemirror_mode": {
    "name": "ipython",
    "version": 3
   },
   "file_extension": ".py",
   "mimetype": "text/x-python",
   "name": "python",
   "nbconvert_exporter": "python",
   "pygments_lexer": "ipython3",
   "version": "3.11.5"
  }
 },
 "nbformat": 4,
 "nbformat_minor": 5
}
