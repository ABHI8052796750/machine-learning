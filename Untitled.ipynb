{
 "cells": [
  {
   "cell_type": "code",
   "execution_count": 89,
   "id": "dbe03eb3",
   "metadata": {},
   "outputs": [],
   "source": [
    "import seaborn as sns\n",
    "import pandas\n",
    "import matplotlib.pyplot as plt\n",
    "from yellowbrick.classifier import ConfusionMatrix\n",
    "from sklearn import model_selection\n",
    "from sklearn.metrics import classification_report\n",
    "from sklearn.metrics import confusion_matrix\n",
    "from sklearn.metrics import accuracy_score\n",
    "from sklearn.tree import DecisionTreeClassifier"
   ]
  },
  {
   "cell_type": "code",
   "execution_count": 90,
   "id": "055fb47f",
   "metadata": {},
   "outputs": [],
   "source": [
    "\n",
    "dataset = pandas.read_csv(\"Alphabets_data.csv\")"
   ]
  },
  {
   "cell_type": "code",
   "execution_count": 91,
   "id": "32c21693",
   "metadata": {},
   "outputs": [
    {
     "data": {
      "text/html": [
       "<div>\n",
       "<style scoped>\n",
       "    .dataframe tbody tr th:only-of-type {\n",
       "        vertical-align: middle;\n",
       "    }\n",
       "\n",
       "    .dataframe tbody tr th {\n",
       "        vertical-align: top;\n",
       "    }\n",
       "\n",
       "    .dataframe thead th {\n",
       "        text-align: right;\n",
       "    }\n",
       "</style>\n",
       "<table border=\"1\" class=\"dataframe\">\n",
       "  <thead>\n",
       "    <tr style=\"text-align: right;\">\n",
       "      <th></th>\n",
       "      <th>letter</th>\n",
       "      <th>xbox</th>\n",
       "      <th>ybox</th>\n",
       "      <th>width</th>\n",
       "      <th>height</th>\n",
       "      <th>onpix</th>\n",
       "      <th>xbar</th>\n",
       "      <th>ybar</th>\n",
       "      <th>x2bar</th>\n",
       "      <th>y2bar</th>\n",
       "      <th>xybar</th>\n",
       "      <th>x2ybar</th>\n",
       "      <th>xy2bar</th>\n",
       "      <th>xedge</th>\n",
       "      <th>xedgey</th>\n",
       "      <th>yedge</th>\n",
       "      <th>yedgex</th>\n",
       "    </tr>\n",
       "  </thead>\n",
       "  <tbody>\n",
       "    <tr>\n",
       "      <th>0</th>\n",
       "      <td>T</td>\n",
       "      <td>2</td>\n",
       "      <td>8</td>\n",
       "      <td>3</td>\n",
       "      <td>5</td>\n",
       "      <td>1</td>\n",
       "      <td>8</td>\n",
       "      <td>13</td>\n",
       "      <td>0</td>\n",
       "      <td>6</td>\n",
       "      <td>6</td>\n",
       "      <td>10</td>\n",
       "      <td>8</td>\n",
       "      <td>0</td>\n",
       "      <td>8</td>\n",
       "      <td>0</td>\n",
       "      <td>8</td>\n",
       "    </tr>\n",
       "    <tr>\n",
       "      <th>1</th>\n",
       "      <td>I</td>\n",
       "      <td>5</td>\n",
       "      <td>12</td>\n",
       "      <td>3</td>\n",
       "      <td>7</td>\n",
       "      <td>2</td>\n",
       "      <td>10</td>\n",
       "      <td>5</td>\n",
       "      <td>5</td>\n",
       "      <td>4</td>\n",
       "      <td>13</td>\n",
       "      <td>3</td>\n",
       "      <td>9</td>\n",
       "      <td>2</td>\n",
       "      <td>8</td>\n",
       "      <td>4</td>\n",
       "      <td>10</td>\n",
       "    </tr>\n",
       "    <tr>\n",
       "      <th>2</th>\n",
       "      <td>D</td>\n",
       "      <td>4</td>\n",
       "      <td>11</td>\n",
       "      <td>6</td>\n",
       "      <td>8</td>\n",
       "      <td>6</td>\n",
       "      <td>10</td>\n",
       "      <td>6</td>\n",
       "      <td>2</td>\n",
       "      <td>6</td>\n",
       "      <td>10</td>\n",
       "      <td>3</td>\n",
       "      <td>7</td>\n",
       "      <td>3</td>\n",
       "      <td>7</td>\n",
       "      <td>3</td>\n",
       "      <td>9</td>\n",
       "    </tr>\n",
       "    <tr>\n",
       "      <th>3</th>\n",
       "      <td>N</td>\n",
       "      <td>7</td>\n",
       "      <td>11</td>\n",
       "      <td>6</td>\n",
       "      <td>6</td>\n",
       "      <td>3</td>\n",
       "      <td>5</td>\n",
       "      <td>9</td>\n",
       "      <td>4</td>\n",
       "      <td>6</td>\n",
       "      <td>4</td>\n",
       "      <td>4</td>\n",
       "      <td>10</td>\n",
       "      <td>6</td>\n",
       "      <td>10</td>\n",
       "      <td>2</td>\n",
       "      <td>8</td>\n",
       "    </tr>\n",
       "    <tr>\n",
       "      <th>4</th>\n",
       "      <td>G</td>\n",
       "      <td>2</td>\n",
       "      <td>1</td>\n",
       "      <td>3</td>\n",
       "      <td>1</td>\n",
       "      <td>1</td>\n",
       "      <td>8</td>\n",
       "      <td>6</td>\n",
       "      <td>6</td>\n",
       "      <td>6</td>\n",
       "      <td>6</td>\n",
       "      <td>5</td>\n",
       "      <td>9</td>\n",
       "      <td>1</td>\n",
       "      <td>7</td>\n",
       "      <td>5</td>\n",
       "      <td>10</td>\n",
       "    </tr>\n",
       "  </tbody>\n",
       "</table>\n",
       "</div>"
      ],
      "text/plain": [
       "  letter  xbox  ybox  width  height  onpix  xbar  ybar  x2bar  y2bar  xybar  \\\n",
       "0      T     2     8      3       5      1     8    13      0      6      6   \n",
       "1      I     5    12      3       7      2    10     5      5      4     13   \n",
       "2      D     4    11      6       8      6    10     6      2      6     10   \n",
       "3      N     7    11      6       6      3     5     9      4      6      4   \n",
       "4      G     2     1      3       1      1     8     6      6      6      6   \n",
       "\n",
       "   x2ybar  xy2bar  xedge  xedgey  yedge  yedgex  \n",
       "0      10       8      0       8      0       8  \n",
       "1       3       9      2       8      4      10  \n",
       "2       3       7      3       7      3       9  \n",
       "3       4      10      6      10      2       8  \n",
       "4       5       9      1       7      5      10  "
      ]
     },
     "execution_count": 91,
     "metadata": {},
     "output_type": "execute_result"
    }
   ],
   "source": [
    "dataset.head()"
   ]
  },
  {
   "cell_type": "code",
   "execution_count": 92,
   "id": "854ef9dd",
   "metadata": {},
   "outputs": [
    {
     "name": "stdout",
     "output_type": "stream",
     "text": [
      "(20000, 17)\n"
     ]
    }
   ],
   "source": [
    "# shape\n",
    "print(dataset.shape)"
   ]
  },
  {
   "cell_type": "code",
   "execution_count": 93,
   "id": "5e60637b",
   "metadata": {},
   "outputs": [
    {
     "data": {
      "text/html": [
       "<div>\n",
       "<style scoped>\n",
       "    .dataframe tbody tr th:only-of-type {\n",
       "        vertical-align: middle;\n",
       "    }\n",
       "\n",
       "    .dataframe tbody tr th {\n",
       "        vertical-align: top;\n",
       "    }\n",
       "\n",
       "    .dataframe thead th {\n",
       "        text-align: right;\n",
       "    }\n",
       "</style>\n",
       "<table border=\"1\" class=\"dataframe\">\n",
       "  <thead>\n",
       "    <tr style=\"text-align: right;\">\n",
       "      <th></th>\n",
       "      <th>xbox</th>\n",
       "      <th>ybox</th>\n",
       "      <th>width</th>\n",
       "      <th>height</th>\n",
       "      <th>onpix</th>\n",
       "      <th>xbar</th>\n",
       "      <th>ybar</th>\n",
       "      <th>x2bar</th>\n",
       "      <th>y2bar</th>\n",
       "      <th>xybar</th>\n",
       "      <th>x2ybar</th>\n",
       "      <th>xy2bar</th>\n",
       "      <th>xedge</th>\n",
       "      <th>xedgey</th>\n",
       "      <th>yedge</th>\n",
       "      <th>yedgex</th>\n",
       "    </tr>\n",
       "  </thead>\n",
       "  <tbody>\n",
       "    <tr>\n",
       "      <th>count</th>\n",
       "      <td>20000.000000</td>\n",
       "      <td>20000.000000</td>\n",
       "      <td>20000.000000</td>\n",
       "      <td>20000.00000</td>\n",
       "      <td>20000.000000</td>\n",
       "      <td>20000.000000</td>\n",
       "      <td>20000.000000</td>\n",
       "      <td>20000.000000</td>\n",
       "      <td>20000.000000</td>\n",
       "      <td>20000.000000</td>\n",
       "      <td>20000.00000</td>\n",
       "      <td>20000.000000</td>\n",
       "      <td>20000.000000</td>\n",
       "      <td>20000.000000</td>\n",
       "      <td>20000.000000</td>\n",
       "      <td>20000.00000</td>\n",
       "    </tr>\n",
       "    <tr>\n",
       "      <th>mean</th>\n",
       "      <td>4.023550</td>\n",
       "      <td>7.035500</td>\n",
       "      <td>5.121850</td>\n",
       "      <td>5.37245</td>\n",
       "      <td>3.505850</td>\n",
       "      <td>6.897600</td>\n",
       "      <td>7.500450</td>\n",
       "      <td>4.628600</td>\n",
       "      <td>5.178650</td>\n",
       "      <td>8.282050</td>\n",
       "      <td>6.45400</td>\n",
       "      <td>7.929000</td>\n",
       "      <td>3.046100</td>\n",
       "      <td>8.338850</td>\n",
       "      <td>3.691750</td>\n",
       "      <td>7.80120</td>\n",
       "    </tr>\n",
       "    <tr>\n",
       "      <th>std</th>\n",
       "      <td>1.913212</td>\n",
       "      <td>3.304555</td>\n",
       "      <td>2.014573</td>\n",
       "      <td>2.26139</td>\n",
       "      <td>2.190458</td>\n",
       "      <td>2.026035</td>\n",
       "      <td>2.325354</td>\n",
       "      <td>2.699968</td>\n",
       "      <td>2.380823</td>\n",
       "      <td>2.488475</td>\n",
       "      <td>2.63107</td>\n",
       "      <td>2.080619</td>\n",
       "      <td>2.332541</td>\n",
       "      <td>1.546722</td>\n",
       "      <td>2.567073</td>\n",
       "      <td>1.61747</td>\n",
       "    </tr>\n",
       "    <tr>\n",
       "      <th>min</th>\n",
       "      <td>0.000000</td>\n",
       "      <td>0.000000</td>\n",
       "      <td>0.000000</td>\n",
       "      <td>0.00000</td>\n",
       "      <td>0.000000</td>\n",
       "      <td>0.000000</td>\n",
       "      <td>0.000000</td>\n",
       "      <td>0.000000</td>\n",
       "      <td>0.000000</td>\n",
       "      <td>0.000000</td>\n",
       "      <td>0.00000</td>\n",
       "      <td>0.000000</td>\n",
       "      <td>0.000000</td>\n",
       "      <td>0.000000</td>\n",
       "      <td>0.000000</td>\n",
       "      <td>0.00000</td>\n",
       "    </tr>\n",
       "    <tr>\n",
       "      <th>25%</th>\n",
       "      <td>3.000000</td>\n",
       "      <td>5.000000</td>\n",
       "      <td>4.000000</td>\n",
       "      <td>4.00000</td>\n",
       "      <td>2.000000</td>\n",
       "      <td>6.000000</td>\n",
       "      <td>6.000000</td>\n",
       "      <td>3.000000</td>\n",
       "      <td>4.000000</td>\n",
       "      <td>7.000000</td>\n",
       "      <td>5.00000</td>\n",
       "      <td>7.000000</td>\n",
       "      <td>1.000000</td>\n",
       "      <td>8.000000</td>\n",
       "      <td>2.000000</td>\n",
       "      <td>7.00000</td>\n",
       "    </tr>\n",
       "    <tr>\n",
       "      <th>50%</th>\n",
       "      <td>4.000000</td>\n",
       "      <td>7.000000</td>\n",
       "      <td>5.000000</td>\n",
       "      <td>6.00000</td>\n",
       "      <td>3.000000</td>\n",
       "      <td>7.000000</td>\n",
       "      <td>7.000000</td>\n",
       "      <td>4.000000</td>\n",
       "      <td>5.000000</td>\n",
       "      <td>8.000000</td>\n",
       "      <td>6.00000</td>\n",
       "      <td>8.000000</td>\n",
       "      <td>3.000000</td>\n",
       "      <td>8.000000</td>\n",
       "      <td>3.000000</td>\n",
       "      <td>8.00000</td>\n",
       "    </tr>\n",
       "    <tr>\n",
       "      <th>75%</th>\n",
       "      <td>5.000000</td>\n",
       "      <td>9.000000</td>\n",
       "      <td>6.000000</td>\n",
       "      <td>7.00000</td>\n",
       "      <td>5.000000</td>\n",
       "      <td>8.000000</td>\n",
       "      <td>9.000000</td>\n",
       "      <td>6.000000</td>\n",
       "      <td>7.000000</td>\n",
       "      <td>10.000000</td>\n",
       "      <td>8.00000</td>\n",
       "      <td>9.000000</td>\n",
       "      <td>4.000000</td>\n",
       "      <td>9.000000</td>\n",
       "      <td>5.000000</td>\n",
       "      <td>9.00000</td>\n",
       "    </tr>\n",
       "    <tr>\n",
       "      <th>max</th>\n",
       "      <td>15.000000</td>\n",
       "      <td>15.000000</td>\n",
       "      <td>15.000000</td>\n",
       "      <td>15.00000</td>\n",
       "      <td>15.000000</td>\n",
       "      <td>15.000000</td>\n",
       "      <td>15.000000</td>\n",
       "      <td>15.000000</td>\n",
       "      <td>15.000000</td>\n",
       "      <td>15.000000</td>\n",
       "      <td>15.00000</td>\n",
       "      <td>15.000000</td>\n",
       "      <td>15.000000</td>\n",
       "      <td>15.000000</td>\n",
       "      <td>15.000000</td>\n",
       "      <td>15.00000</td>\n",
       "    </tr>\n",
       "  </tbody>\n",
       "</table>\n",
       "</div>"
      ],
      "text/plain": [
       "               xbox          ybox         width       height         onpix  \\\n",
       "count  20000.000000  20000.000000  20000.000000  20000.00000  20000.000000   \n",
       "mean       4.023550      7.035500      5.121850      5.37245      3.505850   \n",
       "std        1.913212      3.304555      2.014573      2.26139      2.190458   \n",
       "min        0.000000      0.000000      0.000000      0.00000      0.000000   \n",
       "25%        3.000000      5.000000      4.000000      4.00000      2.000000   \n",
       "50%        4.000000      7.000000      5.000000      6.00000      3.000000   \n",
       "75%        5.000000      9.000000      6.000000      7.00000      5.000000   \n",
       "max       15.000000     15.000000     15.000000     15.00000     15.000000   \n",
       "\n",
       "               xbar          ybar         x2bar         y2bar         xybar  \\\n",
       "count  20000.000000  20000.000000  20000.000000  20000.000000  20000.000000   \n",
       "mean       6.897600      7.500450      4.628600      5.178650      8.282050   \n",
       "std        2.026035      2.325354      2.699968      2.380823      2.488475   \n",
       "min        0.000000      0.000000      0.000000      0.000000      0.000000   \n",
       "25%        6.000000      6.000000      3.000000      4.000000      7.000000   \n",
       "50%        7.000000      7.000000      4.000000      5.000000      8.000000   \n",
       "75%        8.000000      9.000000      6.000000      7.000000     10.000000   \n",
       "max       15.000000     15.000000     15.000000     15.000000     15.000000   \n",
       "\n",
       "            x2ybar        xy2bar         xedge        xedgey         yedge  \\\n",
       "count  20000.00000  20000.000000  20000.000000  20000.000000  20000.000000   \n",
       "mean       6.45400      7.929000      3.046100      8.338850      3.691750   \n",
       "std        2.63107      2.080619      2.332541      1.546722      2.567073   \n",
       "min        0.00000      0.000000      0.000000      0.000000      0.000000   \n",
       "25%        5.00000      7.000000      1.000000      8.000000      2.000000   \n",
       "50%        6.00000      8.000000      3.000000      8.000000      3.000000   \n",
       "75%        8.00000      9.000000      4.000000      9.000000      5.000000   \n",
       "max       15.00000     15.000000     15.000000     15.000000     15.000000   \n",
       "\n",
       "            yedgex  \n",
       "count  20000.00000  \n",
       "mean       7.80120  \n",
       "std        1.61747  \n",
       "min        0.00000  \n",
       "25%        7.00000  \n",
       "50%        8.00000  \n",
       "75%        9.00000  \n",
       "max       15.00000  "
      ]
     },
     "execution_count": 93,
     "metadata": {},
     "output_type": "execute_result"
    }
   ],
   "source": [
    "dataset.describe()"
   ]
  },
  {
   "cell_type": "code",
   "execution_count": 94,
   "id": "edddc8b1",
   "metadata": {},
   "outputs": [
    {
     "data": {
      "text/plain": [
       "letter\n",
       "A    789\n",
       "B    766\n",
       "C    736\n",
       "D    805\n",
       "E    768\n",
       "F    775\n",
       "G    773\n",
       "H    734\n",
       "I    755\n",
       "J    747\n",
       "K    739\n",
       "L    761\n",
       "M    792\n",
       "N    783\n",
       "O    753\n",
       "P    803\n",
       "Q    783\n",
       "R    758\n",
       "S    748\n",
       "T    796\n",
       "U    813\n",
       "V    764\n",
       "W    752\n",
       "X    787\n",
       "Y    786\n",
       "Z    734\n",
       "dtype: int64"
      ]
     },
     "execution_count": 94,
     "metadata": {},
     "output_type": "execute_result"
    }
   ],
   "source": [
    "dataset.groupby('letter').size()"
   ]
  },
  {
   "cell_type": "code",
   "execution_count": 95,
   "id": "83b3c6a7",
   "metadata": {},
   "outputs": [
    {
     "data": {
      "image/png": "[encoded data removed]",
      "text/plain": [
       "<Figure size 800x550 with 16 Axes>"
      ]
     },
     "metadata": {},
     "output_type": "display_data"
    }
   ],
   "source": [
    "dataset.hist()\n",
    "plt.show()"
   ]
  },
  {
   "cell_type": "code",
   "execution_count": 96,
   "id": "312f0372",
   "metadata": {},
   "outputs": [],
   "source": [
    "X = array[:, 1:17]\n",
    "Y = array[:, 0]"
   ]
  },
  {
   "cell_type": "code",
   "execution_count": 97,
   "id": "2c375c1d",
   "metadata": {},
   "outputs": [
    {
     "data": {
      "text/plain": [
       "array([[2, 8, 3, ..., 8, 0, 8],\n",
       "       [5, 12, 3, ..., 8, 4, 10],\n",
       "       [4, 11, 6, ..., 7, 3, 9],\n",
       "       ...,\n",
       "       [6, 9, 6, ..., 12, 2, 4],\n",
       "       [2, 3, 4, ..., 9, 5, 8],\n",
       "       [4, 9, 6, ..., 7, 2, 8]], dtype=object)"
      ]
     },
     "execution_count": 97,
     "metadata": {},
     "output_type": "execute_result"
    }
   ],
   "source": [
    "X"
   ]
  },
  {
   "cell_type": "code",
   "execution_count": 98,
   "id": "fc09a12e",
   "metadata": {},
   "outputs": [
    {
     "data": {
      "text/plain": [
       "((20000, 16), (20000,))"
      ]
     },
     "execution_count": 98,
     "metadata": {},
     "output_type": "execute_result"
    }
   ],
   "source": [
    "X.shape, Y.shape"
   ]
  },
  {
   "cell_type": "code",
   "execution_count": 99,
   "id": "1bc7826a",
   "metadata": {},
   "outputs": [],
   "source": [
    "X_train, X_validation, Y_train, Y_validation = model_selection.train_test_split(X, Y, test_size=0.20,\n",
    "                                                                                random_state=10, stratify=Y)\n",
    "     "
   ]
  },
  {
   "cell_type": "code",
   "execution_count": 100,
   "id": "c5d367c5",
   "metadata": {},
   "outputs": [
    {
     "data": {
      "text/plain": [
       "((16000, 16), (4000, 16), (16000,), (4000,))"
      ]
     },
     "execution_count": 100,
     "metadata": {},
     "output_type": "execute_result"
    }
   ],
   "source": [
    "X_train.shape, X_validation.shape, Y_train.shape, Y_validation.shape"
   ]
  },
  {
   "cell_type": "code",
   "execution_count": 101,
   "id": "8ad30f62",
   "metadata": {},
   "outputs": [
    {
     "data": {
      "text/html": [
       "<style>#sk-container-id-4 {color: black;}#sk-container-id-4 pre{padding: 0;}#sk-container-id-4 div.sk-toggleable {background-color: white;}#sk-container-id-4 label.sk-toggleable__label {cursor: pointer;display: block;width: 100%;margin-bottom: 0;padding: 0.3em;box-sizing: border-box;text-align: center;}#sk-container-id-4 label.sk-toggleable__label-arrow:before {content: \"▸\";float: left;margin-right: 0.25em;color: #696969;}#sk-container-id-4 label.sk-toggleable__label-arrow:hover:before {color: black;}#sk-container-id-4 div.sk-estimator:hover label.sk-toggleable__label-arrow:before {color: black;}#sk-container-id-4 div.sk-toggleable__content {max-height: 0;max-width: 0;overflow: hidden;text-align: left;background-color: #f0f8ff;}#sk-container-id-4 div.sk-toggleable__content pre {margin: 0.2em;color: black;border-radius: 0.25em;background-color: #f0f8ff;}#sk-container-id-4 input.sk-toggleable__control:checked~div.sk-toggleable__content {max-height: 200px;max-width: 100%;overflow: auto;}#sk-container-id-4 input.sk-toggleable__control:checked~label.sk-toggleable__label-arrow:before {content: \"▾\";}#sk-container-id-4 div.sk-estimator input.sk-toggleable__control:checked~label.sk-toggleable__label {background-color: #d4ebff;}#sk-container-id-4 div.sk-label input.sk-toggleable__control:checked~label.sk-toggleable__label {background-color: #d4ebff;}#sk-container-id-4 input.sk-hidden--visually {border: 0;clip: rect(1px 1px 1px 1px);clip: rect(1px, 1px, 1px, 1px);height: 1px;margin: -1px;overflow: hidden;padding: 0;position: absolute;width: 1px;}#sk-container-id-4 div.sk-estimator {font-family: monospace;background-color: #f0f8ff;border: 1px dotted black;border-radius: 0.25em;box-sizing: border-box;margin-bottom: 0.5em;}#sk-container-id-4 div.sk-estimator:hover {background-color: #d4ebff;}#sk-container-id-4 div.sk-parallel-item::after {content: \"\";width: 100%;border-bottom: 1px solid gray;flex-grow: 1;}#sk-container-id-4 div.sk-label:hover label.sk-toggleable__label {background-color: #d4ebff;}#sk-container-id-4 div.sk-serial::before {content: \"\";position: absolute;border-left: 1px solid gray;box-sizing: border-box;top: 0;bottom: 0;left: 50%;z-index: 0;}#sk-container-id-4 div.sk-serial {display: flex;flex-direction: column;align-items: center;background-color: white;padding-right: 0.2em;padding-left: 0.2em;position: relative;}#sk-container-id-4 div.sk-item {position: relative;z-index: 1;}#sk-container-id-4 div.sk-parallel {display: flex;align-items: stretch;justify-content: center;background-color: white;position: relative;}#sk-container-id-4 div.sk-item::before, #sk-container-id-4 div.sk-parallel-item::before {content: \"\";position: absolute;border-left: 1px solid gray;box-sizing: border-box;top: 0;bottom: 0;left: 50%;z-index: -1;}#sk-container-id-4 div.sk-parallel-item {display: flex;flex-direction: column;z-index: 1;position: relative;background-color: white;}#sk-container-id-4 div.sk-parallel-item:first-child::after {align-self: flex-end;width: 50%;}#sk-container-id-4 div.sk-parallel-item:last-child::after {align-self: flex-start;width: 50%;}#sk-container-id-4 div.sk-parallel-item:only-child::after {width: 0;}#sk-container-id-4 div.sk-dashed-wrapped {border: 1px dashed gray;margin: 0 0.4em 0.5em 0.4em;box-sizing: border-box;padding-bottom: 0.4em;background-color: white;}#sk-container-id-4 div.sk-label label {font-family: monospace;font-weight: bold;display: inline-block;line-height: 1.2em;}#sk-container-id-4 div.sk-label-container {text-align: center;}#sk-container-id-4 div.sk-container {/* jupyter's `normalize.less` sets `[hidden] { display: none; }` but bootstrap.min.css set `[hidden] { display: none !important; }` so we also need the `!important` here to be able to override the default hidden behavior on the sphinx rendered scikit-learn.org. See: https://github.com/scikit-learn/scikit-learn/issues/21755 */display: inline-block !important;position: relative;}#sk-container-id-4 div.sk-text-repr-fallback {display: none;}</style><div id=\"sk-container-id-4\" class=\"sk-top-container\"><div class=\"sk-text-repr-fallback\"><pre>DecisionTreeClassifier()</pre><b>In a Jupyter environment, please rerun this cell to show the HTML representation or trust the notebook. <br />On GitHub, the HTML representation is unable to render, please try loading this page with nbviewer.org.</b></div><div class=\"sk-container\" hidden><div class=\"sk-item\"><div class=\"sk-estimator sk-toggleable\"><input class=\"sk-toggleable__control sk-hidden--visually\" id=\"sk-estimator-id-6\" type=\"checkbox\" checked><label for=\"sk-estimator-id-6\" class=\"sk-toggleable__label sk-toggleable__label-arrow\">DecisionTreeClassifier</label><div class=\"sk-toggleable__content\"><pre>DecisionTreeClassifier()</pre></div></div></div></div></div>"
      ],
      "text/plain": [
       "DecisionTreeClassifier()"
      ]
     },
     "execution_count": 101,
     "metadata": {},
     "output_type": "execute_result"
    }
   ],
   "source": [
    "from sklearn.tree import DecisionTreeClassifier\n",
    "\n",
    "dt = DecisionTreeClassifier()\n",
    "dt.fit(X_train, Y_train)"
   ]
  },
  {
   "cell_type": "code",
   "execution_count": 102,
   "id": "bb0a9fba",
   "metadata": {},
   "outputs": [],
   "source": [
    "y_pred_dt = dt.predict(X_validation)"
   ]
  },
  {
   "cell_type": "code",
   "execution_count": 103,
   "id": "d1a7803b",
   "metadata": {},
   "outputs": [
    {
     "data": {
      "text/plain": [
       "array(['D', 'Z', 'E', ..., 'J', 'I', 'G'], dtype=object)"
      ]
     },
     "execution_count": 103,
     "metadata": {},
     "output_type": "execute_result"
    }
   ],
   "source": [
    "y_pred_dt"
   ]
  },
  {
   "cell_type": "code",
   "execution_count": 104,
   "id": "b4ef016c",
   "metadata": {},
   "outputs": [
    {
     "name": "stdout",
     "output_type": "stream",
     "text": [
      "Decision Tree Classifier report: \n",
      "\n",
      "               precision    recall  f1-score   support\n",
      "\n",
      "           A       0.93      0.94      0.93       158\n",
      "           B       0.87      0.76      0.81       153\n",
      "           C       0.96      0.91      0.93       147\n",
      "           D       0.86      0.86      0.86       161\n",
      "           E       0.82      0.79      0.81       154\n",
      "           F       0.82      0.81      0.82       155\n",
      "           G       0.75      0.90      0.82       155\n",
      "           H       0.85      0.82      0.84       147\n",
      "           I       0.91      0.92      0.91       151\n",
      "           J       0.90      0.88      0.89       149\n",
      "           K       0.84      0.86      0.85       148\n",
      "           L       0.96      0.94      0.95       152\n",
      "           M       0.93      0.91      0.92       158\n",
      "           N       0.85      0.92      0.88       157\n",
      "           O       0.82      0.79      0.81       151\n",
      "           P       0.88      0.86      0.87       161\n",
      "           Q       0.84      0.82      0.83       157\n",
      "           R       0.82      0.87      0.85       151\n",
      "           S       0.83      0.83      0.83       149\n",
      "           T       0.91      0.89      0.90       159\n",
      "           U       0.94      0.90      0.92       163\n",
      "           V       0.89      0.92      0.91       153\n",
      "           W       0.93      0.92      0.92       150\n",
      "           X       0.89      0.87      0.88       157\n",
      "           Y       0.89      0.89      0.89       157\n",
      "           Z       0.85      0.90      0.87       147\n",
      "\n",
      "    accuracy                           0.87      4000\n",
      "   macro avg       0.87      0.87      0.87      4000\n",
      "weighted avg       0.87      0.87      0.87      4000\n",
      "\n"
     ]
    }
   ],
   "source": [
    "print(\"Decision Tree Classifier report: \\n\\n\", classification_report(Y_validation, y_pred_dt))"
   ]
  },
  {
   "cell_type": "code",
   "execution_count": 105,
   "id": "6551a076",
   "metadata": {},
   "outputs": [],
   "source": [
    "cm = confusion_matrix(Y_validation, y_pred_dt)"
   ]
  },
  {
   "cell_type": "code",
   "execution_count": 106,
   "id": "9c975714",
   "metadata": {},
   "outputs": [
    {
     "data": {
      "text/plain": [
       "array([[149,   0,   0,   1,   0,   0,   1,   0,   0,   2,   0,   0,   1,\n",
       "          0,   0,   0,   1,   1,   1,   0,   0,   0,   0,   0,   1,   0],\n",
       "       [  0, 117,   0,   1,   1,   2,   0,   3,   0,   3,   5,   0,   0,\n",
       "          0,   3,   2,   1,   4,   3,   0,   1,   1,   1,   2,   0,   3],\n",
       "       [  0,   0, 134,   0,   3,   0,   7,   0,   0,   0,   1,   0,   0,\n",
       "          0,   0,   0,   2,   0,   0,   0,   0,   0,   0,   0,   0,   0],\n",
       "       [  2,   1,   0, 139,   0,   1,   0,   1,   1,   0,   0,   0,   0,\n",
       "          5,   1,   2,   1,   3,   1,   0,   3,   0,   0,   0,   0,   0],\n",
       "       [  0,   0,   0,   0, 122,   1,  10,   0,   0,   0,   4,   2,   0,\n",
       "          0,   0,   0,   2,   1,   3,   0,   0,   0,   0,   3,   0,   6],\n",
       "       [  0,   2,   0,   0,   1, 126,   4,   0,   0,   3,   0,   0,   0,\n",
       "          1,   1,   5,   1,   1,   3,   2,   0,   0,   0,   1,   2,   2],\n",
       "       [  0,   1,   2,   0,   2,   0, 140,   0,   0,   0,   1,   0,   0,\n",
       "          0,   1,   1,   2,   0,   0,   3,   0,   0,   1,   0,   1,   0],\n",
       "       [  0,   2,   0,   4,   0,   0,   3, 121,   0,   1,   4,   0,   1,\n",
       "          1,   2,   0,   0,   4,   2,   1,   0,   0,   0,   1,   0,   0],\n",
       "       [  3,   0,   0,   0,   1,   2,   2,   0, 139,   2,   0,   0,   0,\n",
       "          0,   0,   0,   0,   0,   1,   0,   0,   0,   0,   0,   0,   1],\n",
       "       [  0,   0,   0,   1,   0,   2,   1,   0,   6, 131,   0,   1,   0,\n",
       "          0,   1,   1,   0,   0,   3,   0,   0,   0,   0,   0,   0,   2],\n",
       "       [  1,   0,   0,   1,   6,   0,   0,   2,   0,   0, 127,   0,   0,\n",
       "          0,   1,   1,   0,   4,   1,   0,   0,   0,   0,   2,   1,   1],\n",
       "       [  0,   0,   2,   0,   2,   0,   0,   2,   2,   0,   0, 143,   0,\n",
       "          0,   0,   0,   0,   0,   0,   0,   0,   0,   0,   1,   0,   0],\n",
       "       [  2,   0,   1,   0,   0,   0,   0,   0,   0,   0,   0,   0, 143,\n",
       "          5,   0,   0,   0,   1,   0,   0,   0,   4,   2,   0,   0,   0],\n",
       "       [  0,   0,   0,   3,   0,   0,   1,   0,   0,   0,   1,   0,   1,\n",
       "        144,   0,   0,   0,   1,   1,   0,   2,   1,   1,   1,   0,   0],\n",
       "       [  0,   0,   0,   5,   1,   0,   1,   3,   2,   0,   1,   0,   1,\n",
       "          3, 120,   4,   3,   1,   0,   1,   3,   0,   0,   0,   0,   2],\n",
       "       [  0,   1,   0,   3,   0,   6,   1,   1,   1,   1,   0,   1,   0,\n",
       "          0,   0, 139,   0,   0,   0,   0,   0,   0,   4,   0,   3,   0],\n",
       "       [  0,   0,   1,   0,   2,   0,   3,   0,   0,   0,   1,   0,   0,\n",
       "          0,   7,   1, 129,   4,   0,   1,   0,   4,   0,   1,   2,   1],\n",
       "       [  1,   3,   0,   0,   0,   0,   3,   4,   0,   1,   1,   0,   1,\n",
       "          0,   3,   0,   1, 132,   1,   0,   0,   0,   0,   0,   0,   0],\n",
       "       [  1,   3,   0,   0,   2,   1,   3,   1,   2,   1,   2,   0,   0,\n",
       "          0,   0,   0,   4,   0, 123,   0,   0,   0,   0,   1,   0,   5],\n",
       "       [  0,   0,   0,   0,   1,   5,   0,   1,   0,   0,   0,   0,   0,\n",
       "          0,   0,   1,   1,   1,   0, 142,   0,   1,   0,   2,   4,   0],\n",
       "       [  0,   0,   0,   1,   0,   0,   2,   1,   0,   0,   2,   0,   3,\n",
       "          3,   4,   0,   0,   0,   0,   0, 146,   0,   0,   1,   0,   0],\n",
       "       [  0,   1,   0,   0,   0,   1,   2,   0,   0,   0,   0,   0,   2,\n",
       "          1,   0,   0,   1,   1,   0,   0,   0, 141,   2,   0,   1,   0],\n",
       "       [  0,   1,   0,   0,   0,   1,   2,   1,   0,   1,   0,   0,   0,\n",
       "          4,   0,   0,   0,   0,   0,   0,   1,   1, 138,   0,   0,   0],\n",
       "       [  1,   1,   0,   1,   2,   4,   1,   1,   0,   0,   1,   0,   0,\n",
       "          0,   0,   0,   0,   2,   1,   3,   0,   1,   0, 137,   1,   0],\n",
       "       [  1,   2,   0,   0,   0,   0,   0,   0,   0,   0,   0,   1,   1,\n",
       "          2,   0,   1,   2,   0,   1,   3,   0,   4,   0,   0, 139,   0],\n",
       "       [  0,   0,   0,   1,   2,   1,   0,   0,   0,   0,   0,   1,   0,\n",
       "          0,   2,   0,   2,   0,   4,   0,   0,   0,   0,   1,   1, 132]],\n",
       "      dtype=int64)"
      ]
     },
     "execution_count": 106,
     "metadata": {},
     "output_type": "execute_result"
    }
   ],
   "source": [
    "cm"
   ]
  },
  {
   "cell_type": "code",
   "execution_count": 109,
   "id": "79c4ae91",
   "metadata": {},
   "outputs": [],
   "source": [
    "from sklearn.naive_bayes import GaussianNB"
   ]
  },
  {
   "cell_type": "code",
   "execution_count": 110,
   "id": "a109aaa1",
   "metadata": {},
   "outputs": [],
   "source": [
    "\n",
    "gaussianNB = GaussianNB()"
   ]
  },
  {
   "cell_type": "code",
   "execution_count": 113,
   "id": "636a8541",
   "metadata": {},
   "outputs": [
    {
     "data": {
      "text/plain": [
       "0.64175"
      ]
     },
     "execution_count": 113,
     "metadata": {},
     "output_type": "execute_result"
    }
   ],
   "source": [
    "gaussianNB.fit(X_train, Y_train)\n",
    "gaussianNB.score(X_validation, Y_validation)"
   ]
  },
  {
   "cell_type": "code",
   "execution_count": 117,
   "id": "ca292e64",
   "metadata": {},
   "outputs": [],
   "source": [
    "\n",
    "# predict the responses for test dataset\n",
    "predictions = gaussianNB.predict(X_validation)\n",
    "\n",
    "     "
   ]
  },
  {
   "cell_type": "code",
   "execution_count": 118,
   "id": "b2a00cee",
   "metadata": {},
   "outputs": [
    {
     "data": {
      "text/plain": [
       "0.64175"
      ]
     },
     "execution_count": 118,
     "metadata": {},
     "output_type": "execute_result"
    }
   ],
   "source": [
    "accuracy_score(Y_validation, predictions)"
   ]
  },
  {
   "cell_type": "code",
   "execution_count": 119,
   "id": "1e39c05c",
   "metadata": {},
   "outputs": [
    {
     "data": {
      "text/plain": [
       "array([[141,   0,   0,   0,   0,   0,   0,   1,   0,   0,   0,   0,   4,\n",
       "          3,   0,   0,   1,   0,   5,   0,   0,   0,   0,   1,   2,   0],\n",
       "       [  0, 102,   0,   5,   0,   1,   3,   0,  20,   2,   1,   0,   2,\n",
       "          0,   1,   0,   2,   9,   0,   0,   0,   0,   4,   1,   0,   0],\n",
       "       [  0,   0, 110,   0,   3,   0,  10,   1,   0,   0,  14,   0,   3,\n",
       "          0,   1,   0,   3,   0,   1,   1,   0,   0,   0,   0,   0,   0],\n",
       "       [  2,   8,   0, 116,   0,   0,   0,   3,   5,   4,   2,   0,   0,\n",
       "          0,  10,   1,   0,   4,   5,   0,   0,   0,   0,   1,   0,   0],\n",
       "       [  0,   5,   2,   0,  61,   0,  20,   1,   7,   0,   7,   0,   0,\n",
       "          0,   0,   0,  12,   0,   7,   5,   0,   0,   1,  24,   1,   1],\n",
       "       [  0,   8,   0,   2,   0, 107,   7,   0,   1,   0,   0,   0,   0,\n",
       "          4,   0,   5,   7,   2,   3,   4,   0,   0,   0,   2,   3,   0],\n",
       "       [  0,   2,  32,   5,   0,   0,  83,   1,   2,   0,   3,   0,   5,\n",
       "          0,   4,   0,   6,   2,   4,   0,   0,   0,   5,   1,   0,   0],\n",
       "       [  0,   5,   0,  12,   0,   0,   2,  46,   6,   0,   7,   0,   4,\n",
       "          2,  26,   0,   3,   8,   1,   0,   2,   0,   1,  19,   3,   0],\n",
       "       [  0,   0,   0,   9,   0,   0,   0,   0, 117,   8,   0,   3,   0,\n",
       "          0,   0,   0,   0,   0,  11,   1,   0,   0,   0,   0,   0,   2],\n",
       "       [  0,   5,   0,   7,   0,   6,   0,   0,   8, 105,   0,   0,   0,\n",
       "          0,   2,   2,   0,   2,   9,   0,   0,   0,   0,   0,   0,   3],\n",
       "       [  1,   5,   3,   6,  16,   0,   5,   1,   1,   0,  69,   0,   7,\n",
       "          2,   0,   0,   0,  10,   0,   2,   3,   0,   0,  16,   1,   0],\n",
       "       [  0,   5,   0,   0,   3,   0,   5,   0,   0,  13,   4, 109,   0,\n",
       "          0,   0,   0,   7,   3,   2,   0,   0,   0,   0,   1,   0,   0],\n",
       "       [  3,   1,   0,   0,   0,   0,   0,   2,   0,   0,   4,   0, 144,\n",
       "          1,   0,   0,   0,   0,   0,   0,   1,   0,   2,   0,   0,   0],\n",
       "       [  0,   0,   0,   5,   0,   0,   0,  14,   0,   0,   1,   0,   4,\n",
       "        114,   4,   1,   1,   2,   0,   0,   3,   5,   3,   0,   0,   0],\n",
       "       [  1,   2,   0,  11,   0,   0,   5,   1,   2,   0,   5,   0,   3,\n",
       "          3,  97,   3,   2,  13,   0,   0,   1,   0,   2,   0,   0,   0],\n",
       "       [  0,   4,   0,   0,   0,  16,   6,   3,   1,   0,   0,   0,   1,\n",
       "          2,   1, 109,   1,   0,   0,   0,   0,   1,  15,   0,   1,   0],\n",
       "       [  4,   3,   0,   2,   0,   0,   2,   1,   1,   0,   0,   0,   2,\n",
       "          0,  38,   0,  92,   2,   9,   0,   0,   0,   0,   0,   0,   1],\n",
       "       [  0,  13,   0,   5,   0,   0,   1,   8,   3,   5,   3,   0,   7,\n",
       "          2,   0,   0,   2, 101,   0,   0,   0,   0,   1,   0,   0,   0],\n",
       "       [  8,  22,   0,   0,   0,   5,   1,   1,  15,   1,   3,   1,   0,\n",
       "          0,   0,   0,   8,   1,  44,   3,   0,   0,   0,  15,   0,  21],\n",
       "       [  0,   0,   1,   0,   4,  12,   4,   2,   0,   0,   6,   0,   0,\n",
       "          0,   0,   0,   0,   0,   3, 111,   0,   3,   0,   4,   9,   0],\n",
       "       [  0,   0,   4,   0,   0,   0,   1,   6,   0,   0,  11,   0,  19,\n",
       "          2,   6,   0,   2,   0,   0,   0, 111,   0,   1,   0,   0,   0],\n",
       "       [  0,   2,   0,   0,   0,   3,   2,   1,   0,   0,   0,   0,   5,\n",
       "          0,   0,   3,   0,   0,   0,   0,   0, 127,   5,   0,   5,   0],\n",
       "       [  0,   2,   0,   0,   0,   0,   0,   0,   0,   0,   0,   0,  14,\n",
       "          2,   1,   0,   0,   0,   0,   0,   0,   8, 122,   0,   1,   0],\n",
       "       [  0,   6,   0,   4,   3,   0,   0,   0,  14,   0,   2,   2,   0,\n",
       "          0,  36,   0,   1,   0,   8,   7,   4,   0,   0,  67,   3,   0],\n",
       "       [  0,   0,   0,   1,   0,   5,   0,   0,   0,   0,   0,   0,   1,\n",
       "          0,   0,   1,   8,   0,   9,  17,   1,  40,  10,   0,  64,   0],\n",
       "       [  2,   0,   0,   0,   4,   0,   0,   0,  15,   2,   3,   0,   0,\n",
       "          0,   0,   0,   2,   1,  16,   1,   0,   0,   0,   3,   0,  98]],\n",
       "      dtype=int64)"
      ]
     },
     "execution_count": 119,
     "metadata": {},
     "output_type": "execute_result"
    }
   ],
   "source": [
    "confusion_matrix(Y_validation, predictions)"
   ]
  },
  {
   "cell_type": "code",
   "execution_count": 121,
   "id": "b236e6bf",
   "metadata": {},
   "outputs": [
    {
     "name": "stdout",
     "output_type": "stream",
     "text": [
      "              precision    recall  f1-score   support\n",
      "\n",
      "           A       0.87      0.89      0.88       158\n",
      "           B       0.51      0.67      0.58       153\n",
      "           C       0.72      0.75      0.74       147\n",
      "           D       0.61      0.72      0.66       161\n",
      "           E       0.65      0.40      0.49       154\n",
      "           F       0.69      0.69      0.69       155\n",
      "           G       0.53      0.54      0.53       155\n",
      "           H       0.49      0.31      0.38       147\n",
      "           I       0.54      0.77      0.63       151\n",
      "           J       0.75      0.70      0.73       149\n",
      "           K       0.48      0.47      0.47       148\n",
      "           L       0.95      0.72      0.82       152\n",
      "           M       0.64      0.91      0.75       158\n",
      "           N       0.83      0.73      0.78       157\n",
      "           O       0.43      0.64      0.51       151\n",
      "           P       0.87      0.68      0.76       161\n",
      "           Q       0.57      0.59      0.58       157\n",
      "           R       0.63      0.67      0.65       151\n",
      "           S       0.32      0.30      0.31       149\n",
      "           T       0.73      0.70      0.71       159\n",
      "           U       0.88      0.68      0.77       163\n",
      "           V       0.69      0.83      0.75       153\n",
      "           W       0.71      0.81      0.76       150\n",
      "           X       0.43      0.43      0.43       157\n",
      "           Y       0.69      0.41      0.51       157\n",
      "           Z       0.78      0.67      0.72       147\n",
      "\n",
      "    accuracy                           0.64      4000\n",
      "   macro avg       0.65      0.64      0.64      4000\n",
      "weighted avg       0.66      0.64      0.64      4000\n",
      "\n"
     ]
    }
   ],
   "source": [
    "# text report showing the main classification metrics\n",
    "print(classification_report(Y_validation, predictions))"
   ]
  },
  {
   "cell_type": "code",
   "execution_count": 122,
   "id": "ecaa74f3",
   "metadata": {},
   "outputs": [],
   "source": [
    "from sklearn.neighbors import KNeighborsClassifier"
   ]
  },
  {
   "cell_type": "code",
   "execution_count": 123,
   "id": "f2b5ba71",
   "metadata": {},
   "outputs": [],
   "source": [
    "knn = KNeighborsClassifier(n_neighbors=5, metric='manhattan', algorithm='auto', weights='distance', n_jobs=-1)"
   ]
  },
  {
   "cell_type": "code",
   "execution_count": 124,
   "id": "e1f02a2c",
   "metadata": {},
   "outputs": [
    {
     "data": {
      "text/plain": [
       "0.96475"
      ]
     },
     "execution_count": 124,
     "metadata": {},
     "output_type": "execute_result"
    }
   ],
   "source": [
    "knn.fit(X_train, Y_train)\n",
    "\n",
    "knn.score(X_validation, Y_validation)\n"
   ]
  },
  {
   "cell_type": "code",
   "execution_count": 125,
   "id": "753b464f",
   "metadata": {},
   "outputs": [],
   "source": [
    "predictions = knn.predict(X_validation)"
   ]
  },
  {
   "cell_type": "code",
   "execution_count": 126,
   "id": "68c5b64e",
   "metadata": {},
   "outputs": [
    {
     "data": {
      "text/plain": [
       "0.96475"
      ]
     },
     "execution_count": 126,
     "metadata": {},
     "output_type": "execute_result"
    }
   ],
   "source": [
    "accuracy_score(Y_validation, predictions)"
   ]
  },
  {
   "cell_type": "code",
   "execution_count": 127,
   "id": "27fbd097",
   "metadata": {},
   "outputs": [
    {
     "data": {
      "text/plain": [
       "array([[158,   0,   0,   0,   0,   0,   0,   0,   0,   0,   0,   0,   0,\n",
       "          0,   0,   0,   0,   0,   0,   0,   0,   0,   0,   0,   0,   0],\n",
       "       [  0, 152,   0,   0,   0,   0,   1,   0,   0,   0,   0,   0,   0,\n",
       "          0,   0,   0,   0,   0,   0,   0,   0,   0,   0,   0,   0,   0],\n",
       "       [  0,   0, 142,   0,   1,   0,   0,   0,   0,   0,   0,   1,   0,\n",
       "          0,   2,   0,   0,   0,   0,   0,   0,   1,   0,   0,   0,   0],\n",
       "       [  0,   2,   0, 153,   0,   0,   0,   2,   0,   0,   0,   0,   0,\n",
       "          1,   2,   0,   0,   1,   0,   0,   0,   0,   0,   0,   0,   0],\n",
       "       [  0,   0,   0,   0, 148,   0,   2,   0,   0,   0,   0,   0,   0,\n",
       "          0,   0,   0,   1,   0,   1,   0,   0,   0,   0,   1,   0,   1],\n",
       "       [  0,   1,   0,   1,   0, 139,   0,   0,   0,   0,   0,   0,   0,\n",
       "          1,   0,   5,   0,   0,   1,   4,   0,   2,   0,   0,   1,   0],\n",
       "       [  0,   0,   0,   1,   1,   0, 150,   1,   0,   0,   0,   0,   0,\n",
       "          0,   1,   0,   0,   0,   0,   0,   0,   0,   0,   1,   0,   0],\n",
       "       [  0,   2,   0,   5,   0,   0,   0, 135,   0,   1,   4,   0,   0,\n",
       "          0,   0,   0,   0,   0,   0,   0,   0,   0,   0,   0,   0,   0],\n",
       "       [  0,   0,   0,   0,   0,   0,   0,   0, 151,   0,   0,   0,   0,\n",
       "          0,   0,   0,   0,   0,   0,   0,   0,   0,   0,   0,   0,   0],\n",
       "       [  0,   0,   0,   0,   0,   0,   0,   0,   6, 142,   0,   0,   0,\n",
       "          0,   1,   0,   0,   0,   0,   0,   0,   0,   0,   0,   0,   0],\n",
       "       [  0,   1,   0,   0,   0,   0,   0,   2,   0,   0, 135,   0,   0,\n",
       "          0,   0,   0,   0,   6,   0,   0,   0,   0,   0,   4,   0,   0],\n",
       "       [  0,   0,   0,   0,   0,   0,   2,   1,   0,   0,   0, 149,   0,\n",
       "          0,   0,   0,   0,   0,   0,   0,   0,   0,   0,   0,   0,   0],\n",
       "       [  0,   1,   0,   0,   0,   0,   0,   0,   0,   0,   0,   0, 156,\n",
       "          0,   0,   0,   0,   0,   0,   0,   0,   1,   0,   0,   0,   0],\n",
       "       [  0,   0,   0,   0,   0,   0,   0,   1,   0,   0,   0,   0,   0,\n",
       "        153,   0,   0,   0,   2,   0,   0,   0,   1,   0,   0,   0,   0],\n",
       "       [  0,   1,   0,   1,   0,   0,   0,   0,   0,   0,   0,   0,   0,\n",
       "          1, 143,   0,   4,   0,   0,   0,   1,   0,   0,   0,   0,   0],\n",
       "       [  0,   2,   0,   0,   0,   8,   0,   1,   0,   0,   0,   1,   0,\n",
       "          0,   0, 148,   1,   0,   0,   0,   0,   0,   0,   0,   0,   0],\n",
       "       [  0,   0,   0,   0,   0,   0,   0,   0,   0,   0,   0,   0,   0,\n",
       "          0,   3,   0, 154,   0,   0,   0,   0,   0,   0,   0,   0,   0],\n",
       "       [  0,   3,   0,   0,   0,   0,   0,   0,   0,   0,   1,   0,   0,\n",
       "          1,   0,   0,   1, 144,   0,   0,   0,   1,   0,   0,   0,   0],\n",
       "       [  0,   0,   0,   0,   2,   1,   0,   0,   0,   0,   0,   0,   0,\n",
       "          0,   0,   0,   0,   0, 145,   1,   0,   0,   0,   0,   0,   0],\n",
       "       [  0,   1,   0,   1,   0,   0,   0,   0,   0,   0,   0,   0,   0,\n",
       "          0,   0,   0,   0,   0,   0, 157,   0,   0,   0,   0,   0,   0],\n",
       "       [  1,   1,   0,   0,   0,   0,   0,   2,   0,   0,   0,   0,   0,\n",
       "          0,   0,   0,   0,   0,   0,   0, 159,   0,   0,   0,   0,   0],\n",
       "       [  0,   1,   0,   0,   0,   0,   0,   0,   0,   0,   0,   0,   2,\n",
       "          0,   0,   0,   0,   0,   0,   0,   0, 150,   0,   0,   0,   0],\n",
       "       [  0,   0,   0,   0,   0,   0,   0,   0,   0,   0,   0,   0,   1,\n",
       "          0,   1,   0,   0,   0,   0,   0,   0,   0, 148,   0,   0,   0],\n",
       "       [  0,   0,   0,   0,   1,   0,   0,   0,   0,   1,   2,   0,   0,\n",
       "          0,   0,   0,   0,   0,   0,   1,   1,   0,   0, 150,   0,   1],\n",
       "       [  0,   0,   0,   0,   0,   0,   0,   0,   0,   0,   0,   0,   0,\n",
       "          0,   0,   0,   0,   0,   0,   4,   0,   0,   0,   0, 153,   0],\n",
       "       [  0,   0,   0,   0,   0,   0,   0,   0,   0,   0,   0,   0,   0,\n",
       "          0,   0,   0,   2,   0,   0,   0,   0,   0,   0,   0,   0, 145]],\n",
       "      dtype=int64)"
      ]
     },
     "execution_count": 127,
     "metadata": {},
     "output_type": "execute_result"
    }
   ],
   "source": [
    "confusion_matrix(Y_validation, predictions)"
   ]
  },
  {
   "cell_type": "code",
   "execution_count": 128,
   "id": "6ebba561",
   "metadata": {},
   "outputs": [
    {
     "name": "stdout",
     "output_type": "stream",
     "text": [
      "              precision    recall  f1-score   support\n",
      "\n",
      "           A    0.99371   1.00000   0.99685       158\n",
      "           B    0.90476   0.99346   0.94704       153\n",
      "           C    1.00000   0.96599   0.98270       147\n",
      "           D    0.94444   0.95031   0.94737       161\n",
      "           E    0.96732   0.96104   0.96417       154\n",
      "           F    0.93919   0.89677   0.91749       155\n",
      "           G    0.96774   0.96774   0.96774       155\n",
      "           H    0.93103   0.91837   0.92466       147\n",
      "           I    0.96178   1.00000   0.98052       151\n",
      "           J    0.98611   0.95302   0.96928       149\n",
      "           K    0.95070   0.91216   0.93103       148\n",
      "           L    0.98675   0.98026   0.98350       152\n",
      "           M    0.98113   0.98734   0.98423       158\n",
      "           N    0.97452   0.97452   0.97452       157\n",
      "           O    0.93464   0.94702   0.94079       151\n",
      "           P    0.96732   0.91925   0.94268       161\n",
      "           Q    0.94479   0.98089   0.96250       157\n",
      "           R    0.94118   0.95364   0.94737       151\n",
      "           S    0.98639   0.97315   0.97973       149\n",
      "           T    0.94012   0.98742   0.96319       159\n",
      "           U    0.98758   0.97546   0.98148       163\n",
      "           V    0.96154   0.98039   0.97087       153\n",
      "           W    1.00000   0.98667   0.99329       150\n",
      "           X    0.96154   0.95541   0.95847       157\n",
      "           Y    0.99351   0.97452   0.98392       157\n",
      "           Z    0.98639   0.98639   0.98639       147\n",
      "\n",
      "    accuracy                        0.96475      4000\n",
      "   macro avg    0.96516   0.96466   0.96468      4000\n",
      "weighted avg    0.96514   0.96475   0.96472      4000\n",
      "\n"
     ]
    }
   ],
   "source": [
    "print(classification_report(Y_validation, predictions, digits=5))"
   ]
  },
  {
   "cell_type": "code",
   "execution_count": 129,
   "id": "c0db7320",
   "metadata": {},
   "outputs": [],
   "source": [
    "from sklearn.svm import SVC"
   ]
  },
  {
   "cell_type": "code",
   "execution_count": 130,
   "id": "8a11153d",
   "metadata": {},
   "outputs": [],
   "source": [
    "svc = SVC(kernel='rbf', gamma='auto', C=6)"
   ]
  },
  {
   "cell_type": "code",
   "execution_count": 131,
   "id": "b256a55a",
   "metadata": {},
   "outputs": [
    {
     "data": {
      "text/plain": [
       "0.978"
      ]
     },
     "execution_count": 131,
     "metadata": {},
     "output_type": "execute_result"
    }
   ],
   "source": [
    "svc.fit(X_train, Y_train)\n",
    "\n",
    "svc.score(X_validation, Y_validation)\n",
    "     "
   ]
  },
  {
   "cell_type": "code",
   "execution_count": 132,
   "id": "5701108d",
   "metadata": {},
   "outputs": [
    {
     "data": {
      "text/plain": [
       "array([[158,   0,   0,   0,   0,   0,   0,   0,   0,   0,   0,   0,   0,\n",
       "          0,   0,   0,   0,   0,   0,   0,   0,   0,   0,   0,   0,   0],\n",
       "       [  0, 152,   0,   0,   0,   0,   1,   0,   0,   0,   0,   0,   0,\n",
       "          0,   0,   0,   0,   0,   0,   0,   0,   0,   0,   0,   0,   0],\n",
       "       [  0,   0, 142,   0,   1,   0,   0,   0,   0,   0,   0,   1,   0,\n",
       "          0,   2,   0,   0,   0,   0,   0,   0,   1,   0,   0,   0,   0],\n",
       "       [  0,   2,   0, 153,   0,   0,   0,   2,   0,   0,   0,   0,   0,\n",
       "          1,   2,   0,   0,   1,   0,   0,   0,   0,   0,   0,   0,   0],\n",
       "       [  0,   0,   0,   0, 148,   0,   2,   0,   0,   0,   0,   0,   0,\n",
       "          0,   0,   0,   1,   0,   1,   0,   0,   0,   0,   1,   0,   1],\n",
       "       [  0,   1,   0,   1,   0, 139,   0,   0,   0,   0,   0,   0,   0,\n",
       "          1,   0,   5,   0,   0,   1,   4,   0,   2,   0,   0,   1,   0],\n",
       "       [  0,   0,   0,   1,   1,   0, 150,   1,   0,   0,   0,   0,   0,\n",
       "          0,   1,   0,   0,   0,   0,   0,   0,   0,   0,   1,   0,   0],\n",
       "       [  0,   2,   0,   5,   0,   0,   0, 135,   0,   1,   4,   0,   0,\n",
       "          0,   0,   0,   0,   0,   0,   0,   0,   0,   0,   0,   0,   0],\n",
       "       [  0,   0,   0,   0,   0,   0,   0,   0, 151,   0,   0,   0,   0,\n",
       "          0,   0,   0,   0,   0,   0,   0,   0,   0,   0,   0,   0,   0],\n",
       "       [  0,   0,   0,   0,   0,   0,   0,   0,   6, 142,   0,   0,   0,\n",
       "          0,   1,   0,   0,   0,   0,   0,   0,   0,   0,   0,   0,   0],\n",
       "       [  0,   1,   0,   0,   0,   0,   0,   2,   0,   0, 135,   0,   0,\n",
       "          0,   0,   0,   0,   6,   0,   0,   0,   0,   0,   4,   0,   0],\n",
       "       [  0,   0,   0,   0,   0,   0,   2,   1,   0,   0,   0, 149,   0,\n",
       "          0,   0,   0,   0,   0,   0,   0,   0,   0,   0,   0,   0,   0],\n",
       "       [  0,   1,   0,   0,   0,   0,   0,   0,   0,   0,   0,   0, 156,\n",
       "          0,   0,   0,   0,   0,   0,   0,   0,   1,   0,   0,   0,   0],\n",
       "       [  0,   0,   0,   0,   0,   0,   0,   1,   0,   0,   0,   0,   0,\n",
       "        153,   0,   0,   0,   2,   0,   0,   0,   1,   0,   0,   0,   0],\n",
       "       [  0,   1,   0,   1,   0,   0,   0,   0,   0,   0,   0,   0,   0,\n",
       "          1, 143,   0,   4,   0,   0,   0,   1,   0,   0,   0,   0,   0],\n",
       "       [  0,   2,   0,   0,   0,   8,   0,   1,   0,   0,   0,   1,   0,\n",
       "          0,   0, 148,   1,   0,   0,   0,   0,   0,   0,   0,   0,   0],\n",
       "       [  0,   0,   0,   0,   0,   0,   0,   0,   0,   0,   0,   0,   0,\n",
       "          0,   3,   0, 154,   0,   0,   0,   0,   0,   0,   0,   0,   0],\n",
       "       [  0,   3,   0,   0,   0,   0,   0,   0,   0,   0,   1,   0,   0,\n",
       "          1,   0,   0,   1, 144,   0,   0,   0,   1,   0,   0,   0,   0],\n",
       "       [  0,   0,   0,   0,   2,   1,   0,   0,   0,   0,   0,   0,   0,\n",
       "          0,   0,   0,   0,   0, 145,   1,   0,   0,   0,   0,   0,   0],\n",
       "       [  0,   1,   0,   1,   0,   0,   0,   0,   0,   0,   0,   0,   0,\n",
       "          0,   0,   0,   0,   0,   0, 157,   0,   0,   0,   0,   0,   0],\n",
       "       [  1,   1,   0,   0,   0,   0,   0,   2,   0,   0,   0,   0,   0,\n",
       "          0,   0,   0,   0,   0,   0,   0, 159,   0,   0,   0,   0,   0],\n",
       "       [  0,   1,   0,   0,   0,   0,   0,   0,   0,   0,   0,   0,   2,\n",
       "          0,   0,   0,   0,   0,   0,   0,   0, 150,   0,   0,   0,   0],\n",
       "       [  0,   0,   0,   0,   0,   0,   0,   0,   0,   0,   0,   0,   1,\n",
       "          0,   1,   0,   0,   0,   0,   0,   0,   0, 148,   0,   0,   0],\n",
       "       [  0,   0,   0,   0,   1,   0,   0,   0,   0,   1,   2,   0,   0,\n",
       "          0,   0,   0,   0,   0,   0,   1,   1,   0,   0, 150,   0,   1],\n",
       "       [  0,   0,   0,   0,   0,   0,   0,   0,   0,   0,   0,   0,   0,\n",
       "          0,   0,   0,   0,   0,   0,   4,   0,   0,   0,   0, 153,   0],\n",
       "       [  0,   0,   0,   0,   0,   0,   0,   0,   0,   0,   0,   0,   0,\n",
       "          0,   0,   0,   2,   0,   0,   0,   0,   0,   0,   0,   0, 145]],\n",
       "      dtype=int64)"
      ]
     },
     "execution_count": 132,
     "metadata": {},
     "output_type": "execute_result"
    }
   ],
   "source": [
    "confusion_matrix(Y_validation, predictions)"
   ]
  },
  {
   "cell_type": "code",
   "execution_count": 134,
   "id": "2586d075",
   "metadata": {},
   "outputs": [
    {
     "name": "stdout",
     "output_type": "stream",
     "text": [
      "              precision    recall  f1-score   support\n",
      "\n",
      "           A    0.99371   1.00000   0.99685       158\n",
      "           B    0.90476   0.99346   0.94704       153\n",
      "           C    1.00000   0.96599   0.98270       147\n",
      "           D    0.94444   0.95031   0.94737       161\n",
      "           E    0.96732   0.96104   0.96417       154\n",
      "           F    0.93919   0.89677   0.91749       155\n",
      "           G    0.96774   0.96774   0.96774       155\n",
      "           H    0.93103   0.91837   0.92466       147\n",
      "           I    0.96178   1.00000   0.98052       151\n",
      "           J    0.98611   0.95302   0.96928       149\n",
      "           K    0.95070   0.91216   0.93103       148\n",
      "           L    0.98675   0.98026   0.98350       152\n",
      "           M    0.98113   0.98734   0.98423       158\n",
      "           N    0.97452   0.97452   0.97452       157\n",
      "           O    0.93464   0.94702   0.94079       151\n",
      "           P    0.96732   0.91925   0.94268       161\n",
      "           Q    0.94479   0.98089   0.96250       157\n",
      "           R    0.94118   0.95364   0.94737       151\n",
      "           S    0.98639   0.97315   0.97973       149\n",
      "           T    0.94012   0.98742   0.96319       159\n",
      "           U    0.98758   0.97546   0.98148       163\n",
      "           V    0.96154   0.98039   0.97087       153\n",
      "           W    1.00000   0.98667   0.99329       150\n",
      "           X    0.96154   0.95541   0.95847       157\n",
      "           Y    0.99351   0.97452   0.98392       157\n",
      "           Z    0.98639   0.98639   0.98639       147\n",
      "\n",
      "    accuracy                        0.96475      4000\n",
      "   macro avg    0.96516   0.96466   0.96468      4000\n",
      "weighted avg    0.96514   0.96475   0.96472      4000\n",
      "\n"
     ]
    }
   ],
   "source": [
    "print(classification_report(Y_validation, predictions, digits=5))"
   ]
  },
  {
   "cell_type": "code",
   "execution_count": 135,
   "id": "40012cb9",
   "metadata": {},
   "outputs": [],
   "source": [
    "from sklearn.neural_network import MLPClassifier\n",
    "from sklearn import preprocessing\n",
    "from sklearn.preprocessing import StandardScaler"
   ]
  },
  {
   "cell_type": "code",
   "execution_count": 136,
   "id": "e7fcba70",
   "metadata": {},
   "outputs": [
    {
     "data": {
      "text/html": [
       "<style>#sk-container-id-6 {color: black;}#sk-container-id-6 pre{padding: 0;}#sk-container-id-6 div.sk-toggleable {background-color: white;}#sk-container-id-6 label.sk-toggleable__label {cursor: pointer;display: block;width: 100%;margin-bottom: 0;padding: 0.3em;box-sizing: border-box;text-align: center;}#sk-container-id-6 label.sk-toggleable__label-arrow:before {content: \"▸\";float: left;margin-right: 0.25em;color: #696969;}#sk-container-id-6 label.sk-toggleable__label-arrow:hover:before {color: black;}#sk-container-id-6 div.sk-estimator:hover label.sk-toggleable__label-arrow:before {color: black;}#sk-container-id-6 div.sk-toggleable__content {max-height: 0;max-width: 0;overflow: hidden;text-align: left;background-color: #f0f8ff;}#sk-container-id-6 div.sk-toggleable__content pre {margin: 0.2em;color: black;border-radius: 0.25em;background-color: #f0f8ff;}#sk-container-id-6 input.sk-toggleable__control:checked~div.sk-toggleable__content {max-height: 200px;max-width: 100%;overflow: auto;}#sk-container-id-6 input.sk-toggleable__control:checked~label.sk-toggleable__label-arrow:before {content: \"▾\";}#sk-container-id-6 div.sk-estimator input.sk-toggleable__control:checked~label.sk-toggleable__label {background-color: #d4ebff;}#sk-container-id-6 div.sk-label input.sk-toggleable__control:checked~label.sk-toggleable__label {background-color: #d4ebff;}#sk-container-id-6 input.sk-hidden--visually {border: 0;clip: rect(1px 1px 1px 1px);clip: rect(1px, 1px, 1px, 1px);height: 1px;margin: -1px;overflow: hidden;padding: 0;position: absolute;width: 1px;}#sk-container-id-6 div.sk-estimator {font-family: monospace;background-color: #f0f8ff;border: 1px dotted black;border-radius: 0.25em;box-sizing: border-box;margin-bottom: 0.5em;}#sk-container-id-6 div.sk-estimator:hover {background-color: #d4ebff;}#sk-container-id-6 div.sk-parallel-item::after {content: \"\";width: 100%;border-bottom: 1px solid gray;flex-grow: 1;}#sk-container-id-6 div.sk-label:hover label.sk-toggleable__label {background-color: #d4ebff;}#sk-container-id-6 div.sk-serial::before {content: \"\";position: absolute;border-left: 1px solid gray;box-sizing: border-box;top: 0;bottom: 0;left: 50%;z-index: 0;}#sk-container-id-6 div.sk-serial {display: flex;flex-direction: column;align-items: center;background-color: white;padding-right: 0.2em;padding-left: 0.2em;position: relative;}#sk-container-id-6 div.sk-item {position: relative;z-index: 1;}#sk-container-id-6 div.sk-parallel {display: flex;align-items: stretch;justify-content: center;background-color: white;position: relative;}#sk-container-id-6 div.sk-item::before, #sk-container-id-6 div.sk-parallel-item::before {content: \"\";position: absolute;border-left: 1px solid gray;box-sizing: border-box;top: 0;bottom: 0;left: 50%;z-index: -1;}#sk-container-id-6 div.sk-parallel-item {display: flex;flex-direction: column;z-index: 1;position: relative;background-color: white;}#sk-container-id-6 div.sk-parallel-item:first-child::after {align-self: flex-end;width: 50%;}#sk-container-id-6 div.sk-parallel-item:last-child::after {align-self: flex-start;width: 50%;}#sk-container-id-6 div.sk-parallel-item:only-child::after {width: 0;}#sk-container-id-6 div.sk-dashed-wrapped {border: 1px dashed gray;margin: 0 0.4em 0.5em 0.4em;box-sizing: border-box;padding-bottom: 0.4em;background-color: white;}#sk-container-id-6 div.sk-label label {font-family: monospace;font-weight: bold;display: inline-block;line-height: 1.2em;}#sk-container-id-6 div.sk-label-container {text-align: center;}#sk-container-id-6 div.sk-container {/* jupyter's `normalize.less` sets `[hidden] { display: none; }` but bootstrap.min.css set `[hidden] { display: none !important; }` so we also need the `!important` here to be able to override the default hidden behavior on the sphinx rendered scikit-learn.org. See: https://github.com/scikit-learn/scikit-learn/issues/21755 */display: inline-block !important;position: relative;}#sk-container-id-6 div.sk-text-repr-fallback {display: none;}</style><div id=\"sk-container-id-6\" class=\"sk-top-container\"><div class=\"sk-text-repr-fallback\"><pre>StandardScaler()</pre><b>In a Jupyter environment, please rerun this cell to show the HTML representation or trust the notebook. <br />On GitHub, the HTML representation is unable to render, please try loading this page with nbviewer.org.</b></div><div class=\"sk-container\" hidden><div class=\"sk-item\"><div class=\"sk-estimator sk-toggleable\"><input class=\"sk-toggleable__control sk-hidden--visually\" id=\"sk-estimator-id-8\" type=\"checkbox\" checked><label for=\"sk-estimator-id-8\" class=\"sk-toggleable__label sk-toggleable__label-arrow\">StandardScaler</label><div class=\"sk-toggleable__content\"><pre>StandardScaler()</pre></div></div></div></div></div>"
      ],
      "text/plain": [
       "StandardScaler()"
      ]
     },
     "execution_count": 136,
     "metadata": {},
     "output_type": "execute_result"
    }
   ],
   "source": [
    "\n",
    "scaler = StandardScaler()\n",
    "scaler.fit(X_train)"
   ]
  },
  {
   "cell_type": "code",
   "execution_count": 137,
   "id": "d1eeba94",
   "metadata": {},
   "outputs": [],
   "source": [
    "X_train = scaler.transform(X_train)\n",
    "X_validation = scaler.transform(X_validation)\n"
   ]
  },
  {
   "cell_type": "code",
   "execution_count": 138,
   "id": "2c96c1ff",
   "metadata": {},
   "outputs": [],
   "source": [
    "mlp = MLPClassifier(hidden_layer_sizes=(250, 300), max_iter=1000000, activation='logistic')\n"
   ]
  },
  {
   "cell_type": "code",
   "execution_count": 139,
   "id": "34426f12",
   "metadata": {},
   "outputs": [
    {
     "data": {
      "text/plain": [
       "0.9705"
      ]
     },
     "execution_count": 139,
     "metadata": {},
     "output_type": "execute_result"
    }
   ],
   "source": [
    "mlp.fit(X_train, Y_train)\n",
    "mlp.score(X_validation, Y_validation)"
   ]
  },
  {
   "cell_type": "code",
   "execution_count": 140,
   "id": "731457b2",
   "metadata": {},
   "outputs": [
    {
     "name": "stdout",
     "output_type": "stream",
     "text": [
      "Accuracy:  0.96475\n"
     ]
    }
   ],
   "source": [
    "print(\"Accuracy: \", accuracy_score(Y_validation, predictions))\n",
    "     "
   ]
  },
  {
   "cell_type": "code",
   "execution_count": 141,
   "id": "2564fb80",
   "metadata": {},
   "outputs": [
    {
     "name": "stdout",
     "output_type": "stream",
     "text": [
      "[[158   0   0   0   0   0   0   0   0   0   0   0   0   0   0   0   0   0\n",
      "    0   0   0   0   0   0   0   0]\n",
      " [  0 152   0   0   0   0   1   0   0   0   0   0   0   0   0   0   0   0\n",
      "    0   0   0   0   0   0   0   0]\n",
      " [  0   0 142   0   1   0   0   0   0   0   0   1   0   0   2   0   0   0\n",
      "    0   0   0   1   0   0   0   0]\n",
      " [  0   2   0 153   0   0   0   2   0   0   0   0   0   1   2   0   0   1\n",
      "    0   0   0   0   0   0   0   0]\n",
      " [  0   0   0   0 148   0   2   0   0   0   0   0   0   0   0   0   1   0\n",
      "    1   0   0   0   0   1   0   1]\n",
      " [  0   1   0   1   0 139   0   0   0   0   0   0   0   1   0   5   0   0\n",
      "    1   4   0   2   0   0   1   0]\n",
      " [  0   0   0   1   1   0 150   1   0   0   0   0   0   0   1   0   0   0\n",
      "    0   0   0   0   0   1   0   0]\n",
      " [  0   2   0   5   0   0   0 135   0   1   4   0   0   0   0   0   0   0\n",
      "    0   0   0   0   0   0   0   0]\n",
      " [  0   0   0   0   0   0   0   0 151   0   0   0   0   0   0   0   0   0\n",
      "    0   0   0   0   0   0   0   0]\n",
      " [  0   0   0   0   0   0   0   0   6 142   0   0   0   0   1   0   0   0\n",
      "    0   0   0   0   0   0   0   0]\n",
      " [  0   1   0   0   0   0   0   2   0   0 135   0   0   0   0   0   0   6\n",
      "    0   0   0   0   0   4   0   0]\n",
      " [  0   0   0   0   0   0   2   1   0   0   0 149   0   0   0   0   0   0\n",
      "    0   0   0   0   0   0   0   0]\n",
      " [  0   1   0   0   0   0   0   0   0   0   0   0 156   0   0   0   0   0\n",
      "    0   0   0   1   0   0   0   0]\n",
      " [  0   0   0   0   0   0   0   1   0   0   0   0   0 153   0   0   0   2\n",
      "    0   0   0   1   0   0   0   0]\n",
      " [  0   1   0   1   0   0   0   0   0   0   0   0   0   1 143   0   4   0\n",
      "    0   0   1   0   0   0   0   0]\n",
      " [  0   2   0   0   0   8   0   1   0   0   0   1   0   0   0 148   1   0\n",
      "    0   0   0   0   0   0   0   0]\n",
      " [  0   0   0   0   0   0   0   0   0   0   0   0   0   0   3   0 154   0\n",
      "    0   0   0   0   0   0   0   0]\n",
      " [  0   3   0   0   0   0   0   0   0   0   1   0   0   1   0   0   1 144\n",
      "    0   0   0   1   0   0   0   0]\n",
      " [  0   0   0   0   2   1   0   0   0   0   0   0   0   0   0   0   0   0\n",
      "  145   1   0   0   0   0   0   0]\n",
      " [  0   1   0   1   0   0   0   0   0   0   0   0   0   0   0   0   0   0\n",
      "    0 157   0   0   0   0   0   0]\n",
      " [  1   1   0   0   0   0   0   2   0   0   0   0   0   0   0   0   0   0\n",
      "    0   0 159   0   0   0   0   0]\n",
      " [  0   1   0   0   0   0   0   0   0   0   0   0   2   0   0   0   0   0\n",
      "    0   0   0 150   0   0   0   0]\n",
      " [  0   0   0   0   0   0   0   0   0   0   0   0   1   0   1   0   0   0\n",
      "    0   0   0   0 148   0   0   0]\n",
      " [  0   0   0   0   1   0   0   0   0   1   2   0   0   0   0   0   0   0\n",
      "    0   1   1   0   0 150   0   1]\n",
      " [  0   0   0   0   0   0   0   0   0   0   0   0   0   0   0   0   0   0\n",
      "    0   4   0   0   0   0 153   0]\n",
      " [  0   0   0   0   0   0   0   0   0   0   0   0   0   0   0   0   2   0\n",
      "    0   0   0   0   0   0   0 145]]\n"
     ]
    }
   ],
   "source": [
    "print(confusion_matrix(Y_validation, predictions))"
   ]
  },
  {
   "cell_type": "code",
   "execution_count": 142,
   "id": "d124fd4c",
   "metadata": {},
   "outputs": [
    {
     "name": "stdout",
     "output_type": "stream",
     "text": [
      "              precision    recall  f1-score   support\n",
      "\n",
      "           A    0.99371   1.00000   0.99685       158\n",
      "           B    0.90476   0.99346   0.94704       153\n",
      "           C    1.00000   0.96599   0.98270       147\n",
      "           D    0.94444   0.95031   0.94737       161\n",
      "           E    0.96732   0.96104   0.96417       154\n",
      "           F    0.93919   0.89677   0.91749       155\n",
      "           G    0.96774   0.96774   0.96774       155\n",
      "           H    0.93103   0.91837   0.92466       147\n",
      "           I    0.96178   1.00000   0.98052       151\n",
      "           J    0.98611   0.95302   0.96928       149\n",
      "           K    0.95070   0.91216   0.93103       148\n",
      "           L    0.98675   0.98026   0.98350       152\n",
      "           M    0.98113   0.98734   0.98423       158\n",
      "           N    0.97452   0.97452   0.97452       157\n",
      "           O    0.93464   0.94702   0.94079       151\n",
      "           P    0.96732   0.91925   0.94268       161\n",
      "           Q    0.94479   0.98089   0.96250       157\n",
      "           R    0.94118   0.95364   0.94737       151\n",
      "           S    0.98639   0.97315   0.97973       149\n",
      "           T    0.94012   0.98742   0.96319       159\n",
      "           U    0.98758   0.97546   0.98148       163\n",
      "           V    0.96154   0.98039   0.97087       153\n",
      "           W    1.00000   0.98667   0.99329       150\n",
      "           X    0.96154   0.95541   0.95847       157\n",
      "           Y    0.99351   0.97452   0.98392       157\n",
      "           Z    0.98639   0.98639   0.98639       147\n",
      "\n",
      "    accuracy                        0.96475      4000\n",
      "   macro avg    0.96516   0.96466   0.96468      4000\n",
      "weighted avg    0.96514   0.96475   0.96472      4000\n",
      "\n"
     ]
    }
   ],
   "source": [
    "print(classification_report(Y_validation, predictions, digits=5))"
   ]
  },
  {
   "cell_type": "code",
   "execution_count": null,
   "id": "35aedad8",
   "metadata": {},
   "outputs": [],
   "source": []
  }
 ],
 "metadata": {
  "kernelspec": {
   "display_name": "Python 3 (ipykernel)",
   "language": "python",
   "name": "python3"
  },
  "language_info": {
   "codemirror_mode": {
    "name": "ipython",
    "version": 3
   },
   "file_extension": ".py",
   "mimetype": "text/x-python",
   "name": "python",
   "nbconvert_exporter": "python",
   "pygments_lexer": "ipython3",
   "version": "3.11.5"
  }
 },
 "nbformat": 4,
 "nbformat_minor": 5
}
