{
 "cells": [
  {
   "cell_type": "markdown",
   "id": "36978c9a",
   "metadata": {},
   "source": [
    "CHI-SQUARE TEST"
   ]
  },
  {
   "cell_type": "code",
   "execution_count": 41,
   "id": "1ab0930a",
   "metadata": {},
   "outputs": [],
   "source": [
    "import numpy as np\n",
    "import scipy.stats as stats\n",
    "from scipy.stats import chi2_contingency\n",
    "\n",
    "# Observed frequencies (from the provided contingency table)\n",
    "observed = np.array([[50, 70], [80, 100], [60, 90], [30, 50], [20, 50]])\n",
    "\n"
   ]
  },
  {
   "cell_type": "code",
   "execution_count": 42,
   "id": "42bab40a",
   "metadata": {},
   "outputs": [],
   "source": [
    "# Expected frequencies (assuming independence)\n",
    "row_totals = observed.sum(axis=1)\n",
    "col_totals = observed.sum(axis=0)\n",
    "total = row_totals.sum()\n",
    "\n"
   ]
  },
  {
   "cell_type": "code",
   "execution_count": 43,
   "id": "5b146ebd",
   "metadata": {},
   "outputs": [
    {
     "name": "stdout",
     "output_type": "stream",
     "text": [
      "P-value: 0.2278\n"
     ]
    }
   ],
   "source": [
    "chisquare, PVALUE, dof, expected = chi2_contingency(observed)\n",
    "print(\"P-value:\", PVALUE.round(4))"
   ]
  },
  {
   "cell_type": "code",
   "execution_count": 44,
   "id": "64bbc0b7",
   "metadata": {},
   "outputs": [
    {
     "name": "stdout",
     "output_type": "stream",
     "text": [
      "Chi-Square Statistic: 5.6382\n"
     ]
    }
   ],
   "source": [
    "print(\"Chi-Square Statistic:\", chisquare.round(4))"
   ]
  },
  {
   "cell_type": "code",
   "execution_count": 45,
   "id": "dad9539d",
   "metadata": {},
   "outputs": [
    {
     "name": "stdout",
     "output_type": "stream",
     "text": [
      "Degrees of Freedom: 4\n",
      "Critical Value: 0.2278\n"
     ]
    }
   ],
   "source": [
    "alpha = 0.05 #given in probelm\n",
    "critical_value = chi2_contingency(observed)[1] # here chi2_contingency returns a tuple, so we're selecting the p-value from it\n",
    "degrees_of_freedom = (observed.shape[0] - 1) * (observed.shape[1] - 1)\n",
    "print(\"Degrees of Freedom:\", degrees_of_freedom)\n",
    "print(\"Critical Value:\", critical_value.round(4))"
   ]
  },
  {
   "cell_type": "code",
   "execution_count": 46,
   "id": "c7dc4b57",
   "metadata": {},
   "outputs": [
    {
     "data": {
      "text/plain": [
       "5.638227513227513"
      ]
     },
     "execution_count": 46,
     "metadata": {},
     "output_type": "execute_result"
    }
   ],
   "source": [
    "chi2_statistic"
   ]
  },
  {
   "cell_type": "code",
   "execution_count": 47,
   "id": "b70c256a",
   "metadata": {},
   "outputs": [
    {
     "name": "stdout",
     "output_type": "stream",
     "text": [
      "Chi-Square Statistic: 5.638227513227513\n",
      "Degrees of Freedom: 4\n",
      "Critical Value: 0.22784371130697179\n",
      "Conclusion: Reject the null hypothesis\n"
     ]
    }
   ],
   "source": [
    "# Make a decision\n",
    "if chi2_statistic > critical_value:\n",
    "    conclusion = \"Reject the null hypothesis\"\n",
    "else:\n",
    "    conclusion = \"Fail to reject the null hypothesis\"\n",
    "\n",
    "print(\"Chi-Square Statistic:\", chi2_statistic)\n",
    "print(\"Degrees of Freedom:\", df)\n",
    "print(\"Critical Value:\", critical_value)\n",
    "print(\"Conclusion:\", conclusion)"
   ]
  },
  {
   "cell_type": "markdown",
   "id": "c2e44610",
   "metadata": {},
   "source": [
    "HYPOTHESIS TESTING\n"
   ]
  },
  {
   "cell_type": "code",
   "execution_count": 50,
   "id": "fd037bb7",
   "metadata": {},
   "outputs": [],
   "source": [
    "import numpy as np\n",
    "import scipy.stats as stats\n"
   ]
  },
  {
   "cell_type": "code",
   "execution_count": 51,
   "id": "d643e6b1",
   "metadata": {},
   "outputs": [],
   "source": [
    "# Given data as per the problem\n",
    "sample_mean = 3050  # Sample mean weekly cost (Rs.)\n",
    "theoretical_mean = 1000 + 5 * 600  # Theoretical mean weekly cost according to the model (Rs.)\n",
    "std_dev = 5 * 25  # Standard deviation (Rs.)\n",
    "sample_size = 25  # Sample size\n",
    "alpha = 0.05  # Significance level"
   ]
  },
  {
   "cell_type": "code",
   "execution_count": null,
   "id": "b80c1dcf",
   "metadata": {},
   "outputs": [],
   "source": [
    "# 1. Stating the Hypotheses statement:\n",
    "# Null Hypothesis (H0): The mean weekly operating cost is equal to the theoretical mean (H0: μ = μ0)\n",
    "# Alternative Hypothesis (H1): The mean weekly operating cost is higher than the theoretical mean (H1: μ > μ0)\n"
   ]
  },
  {
   "cell_type": "code",
   "execution_count": 58,
   "id": "cc795413",
   "metadata": {},
   "outputs": [],
   "source": [
    "# 2. Calculating the Test Statistic (t-score):\n",
    "t_score = (sample_mean - theoretical_mean) / (std_dev / np.sqrt(sample_size))"
   ]
  },
  {
   "cell_type": "code",
   "execution_count": 59,
   "id": "99be188c",
   "metadata": {},
   "outputs": [
    {
     "data": {
      "text/plain": [
       "-38.0"
      ]
     },
     "execution_count": 59,
     "metadata": {},
     "output_type": "execute_result"
    }
   ],
   "source": [
    "t_score"
   ]
  },
  {
   "cell_type": "code",
   "execution_count": 62,
   "id": "22e911b4",
   "metadata": {},
   "outputs": [],
   "source": [
    "# 3. Determining the Critical Value:\n",
    "# Degrees of freedom for a one-sample t-test is (n - 1)\n",
    "degrees_of_freedom = sample_size - 1"
   ]
  },
  {
   "cell_type": "code",
   "execution_count": 63,
   "id": "5021e5f3",
   "metadata": {},
   "outputs": [
    {
     "data": {
      "text/plain": [
       "24"
      ]
     },
     "execution_count": 63,
     "metadata": {},
     "output_type": "execute_result"
    }
   ],
   "source": [
    "degrees_of_freedom"
   ]
  },
  {
   "cell_type": "code",
   "execution_count": 64,
   "id": "22c46ed2",
   "metadata": {},
   "outputs": [],
   "source": [
    "# Finding the critical value from the t-distribution\n",
    "critical_value = stats.t.ppf(1 - alpha, degrees_of_freedom)"
   ]
  },
  {
   "cell_type": "code",
   "execution_count": 65,
   "id": "a5f67821",
   "metadata": {},
   "outputs": [
    {
     "data": {
      "text/plain": [
       "1.7108820799094275"
      ]
     },
     "execution_count": 65,
     "metadata": {},
     "output_type": "execute_result"
    }
   ],
   "source": [
    "critical_value"
   ]
  },
  {
   "cell_type": "code",
   "execution_count": 67,
   "id": "4237f302",
   "metadata": {},
   "outputs": [
    {
     "name": "stdout",
     "output_type": "stream",
     "text": [
      "Test Statistic (t-score): -38.0\n",
      "Critical Value: 1.71088\n",
      "Decision: Fail to reject the null hypothesis\n",
      "Conclusion: There is not enough evidence to support the restaurant owners' claim that the weekly operating costs are higher than the model suggests.\n"
     ]
    }
   ],
   "source": [
    "if t_score > critical_value:\n",
    "    conclusion = \"There is strong evidence to support the restaurant owners' claim that the weekly operating costs are higher than the model suggests.\"\n",
    "else:\n",
    "    conclusion = \"There is not enough evidence to support the restaurant owners' claim that the weekly operating costs are higher than the model suggests.\"\n",
    "\n",
    "# Output the results\n",
    "print(\"Test Statistic (t-score):\", t_score)\n",
    "print(\"Critical Value:\", critical_value.round(5))\n",
    "print(\"Decision:\", decision)\n",
    "print(\"Conclusion:\", conclusion)"
   ]
  },
  {
   "cell_type": "code",
   "execution_count": null,
   "id": "2627392f",
   "metadata": {},
   "outputs": [],
   "source": []
  }
 ],
 "metadata": {
  "kernelspec": {
   "display_name": "Python 3 (ipykernel)",
   "language": "python",
   "name": "python3"
  },
  "language_info": {
   "codemirror_mode": {
    "name": "ipython",
    "version": 3
   },
   "file_extension": ".py",
   "mimetype": "text/x-python",
   "name": "python",
   "nbconvert_exporter": "python",
   "pygments_lexer": "ipython3",
   "version": "3.11.5"
  }
 },
 "nbformat": 4,
 "nbformat_minor": 5
}
